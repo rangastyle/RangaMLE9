{
 "cells": [
  {
   "cell_type": "markdown",
   "id": "24d097db",
   "metadata": {},
   "source": [
    "<p align = \"center\" draggable=”false” ><img src=\"https://user-images.githubusercontent.com/37101144/161836199-fdb0219d-0361-4988-bf26-48b0fad160a3.png\"\n",
    "     width=\"200px\"\n",
    "     height=\"auto\"/>\n",
    "</p>\n",
    "\n",
    "# <h1 align=\"center\" id=\"heading\">Sentiment Analysis of Twitter Data</h1>\n",
    "\n",
    "<hr>\n",
    "\n",
    "\n",
    "### ☑️ Objectives\n",
    "At the end of this session, you will be able to:\n",
    "- [ ] Understand how to find and run pre-trained models\n",
    "- [ ] Evaluate results from pre-trained models\n",
    "- [ ] Run a pre-trained model using real twitter data\n",
    "\n",
    "\n",
    "### 🔨 Pre-Assignment\n",
    "\n",
    "Create a new Conda environment for sentiment anaylsis (sa)\n",
    "\n",
    "```bash\n",
    "  conda create -n sa python=3.8 jupyter -y\n",
    "```\n",
    "\n",
    "Activate your new environment\n",
    "```bash\n",
    "  conda activate sa\n",
    "```\n",
    "\n",
    "Open the jupyter-notebook\n",
    "```bash\n",
    "  jupyter-notebook\n",
    "```\n",
    "\n",
    "Navigate through the repo in the notebook to find `imports.ipynb` for this week and open it.\n",
    "\n",
    "Run all of the cells in the notebook.\n",
    "\n",
    "\n",
    "### Background\n",
    "Please review the weekly narrative [here](https://www.notion.so/Week-2-Data-Centric-AI-the-AI-Product-Lifecycle-72a84c1517b44fcbb3e6bd11d47477dc#2b73937612bb46559f5b91dc2bf55e7d)\n",
    "\n",
    "\n"
   ]
  },
  {
   "cell_type": "markdown",
   "id": "b3934e6e",
   "metadata": {},
   "source": [
    "<hr>"
   ]
  },
  {
   "cell_type": "markdown",
   "id": "d1a5ab14",
   "metadata": {},
   "source": [
    "## 🚀 Let's Get Started"
   ]
  },
  {
   "cell_type": "markdown",
   "id": "bea542cb",
   "metadata": {},
   "source": [
    "Let's first start with our imports"
   ]
  },
  {
   "cell_type": "code",
   "execution_count": null,
   "id": "ea38f302",
   "metadata": {
    "scrolled": false
   },
   "outputs": [
    {
     "name": "stdout",
     "output_type": "stream",
     "text": [
      "Collecting tensorflow\n",
      "  Downloading tensorflow-2.9.1-cp39-cp39-macosx_10_14_x86_64.whl (228.5 MB)\n",
      "\u001b[K     |████████████████████████████████| 228.5 MB 42 kB/s s eta 0:00:012  |██▏                             | 15.4 MB 9.3 MB/s eta 0:00:23     |██▊                             | 19.2 MB 9.3 MB/s eta 0:00:23     |████████████████▉               | 120.2 MB 37.6 MB/s eta 0:00:03     |█████████████████████▏          | 151.0 MB 19.3 MB/s eta 0:00:05     |█████████████████████████       | 179.0 MB 51.2 MB/s eta 0:00:01███████████████████████▎      | 180.3 MB 51.2 MB/s eta 0:00:01�█████████▉ | 220.5 MB 23.1 MB/s eta 0:00:01\n",
      "\u001b[?25hRequirement already satisfied: numpy>=1.20 in /Users/ranganaigwati/opt/anaconda3/lib/python3.9/site-packages (from tensorflow) (1.21.5)\n",
      "Collecting keras-preprocessing>=1.1.1\n",
      "  Using cached Keras_Preprocessing-1.1.2-py2.py3-none-any.whl (42 kB)\n",
      "Collecting keras<2.10.0,>=2.9.0rc0\n",
      "  Using cached keras-2.9.0-py2.py3-none-any.whl (1.6 MB)\n",
      "Collecting opt-einsum>=2.3.2\n",
      "  Using cached opt_einsum-3.3.0-py3-none-any.whl (65 kB)\n",
      "Collecting tensorboard<2.10,>=2.9\n",
      "  Using cached tensorboard-2.9.1-py3-none-any.whl (5.8 MB)\n",
      "Collecting libclang>=13.0.0\n",
      "  Using cached libclang-14.0.6-py2.py3-none-macosx_10_9_x86_64.whl (13.2 MB)\n",
      "Collecting termcolor>=1.1.0\n",
      "  Using cached termcolor-1.1.0.tar.gz (3.9 kB)\n",
      "Collecting absl-py>=1.0.0\n",
      "  Using cached absl_py-1.2.0-py3-none-any.whl (123 kB)\n",
      "Requirement already satisfied: wrapt>=1.11.0 in /Users/ranganaigwati/opt/anaconda3/lib/python3.9/site-packages (from tensorflow) (1.12.1)\n",
      "Collecting gast<=0.4.0,>=0.2.1\n",
      "  Using cached gast-0.4.0-py3-none-any.whl (9.8 kB)\n",
      "Requirement already satisfied: grpcio<2.0,>=1.24.3 in /Users/ranganaigwati/opt/anaconda3/lib/python3.9/site-packages (from tensorflow) (1.42.0)\n",
      "Collecting tensorflow-estimator<2.10.0,>=2.9.0rc0\n",
      "  Using cached tensorflow_estimator-2.9.0-py2.py3-none-any.whl (438 kB)\n",
      "Requirement already satisfied: setuptools in /Users/ranganaigwati/opt/anaconda3/lib/python3.9/site-packages (from tensorflow) (61.2.0)\n",
      "Requirement already satisfied: protobuf<3.20,>=3.9.2 in /Users/ranganaigwati/opt/anaconda3/lib/python3.9/site-packages (from tensorflow) (3.19.1)\n",
      "Collecting google-pasta>=0.1.1\n",
      "  Using cached google_pasta-0.2.0-py3-none-any.whl (57 kB)\n",
      "Collecting flatbuffers<2,>=1.12\n",
      "  Using cached flatbuffers-1.12-py2.py3-none-any.whl (15 kB)\n",
      "Requirement already satisfied: h5py>=2.9.0 in /Users/ranganaigwati/opt/anaconda3/lib/python3.9/site-packages (from tensorflow) (3.6.0)\n",
      "Collecting astunparse>=1.6.0\n",
      "  Using cached astunparse-1.6.3-py2.py3-none-any.whl (12 kB)\n",
      "Requirement already satisfied: six>=1.12.0 in /Users/ranganaigwati/opt/anaconda3/lib/python3.9/site-packages (from tensorflow) (1.16.0)\n",
      "Requirement already satisfied: typing-extensions>=3.6.6 in /Users/ranganaigwati/opt/anaconda3/lib/python3.9/site-packages (from tensorflow) (4.1.1)\n",
      "Collecting tensorflow-io-gcs-filesystem>=0.23.1\n",
      "  Downloading tensorflow_io_gcs_filesystem-0.26.0-cp39-cp39-macosx_10_14_x86_64.whl (1.6 MB)\n",
      "\u001b[K     |████████████████████████████████| 1.6 MB 14.9 MB/s eta 0:00:01\n",
      "\u001b[?25hRequirement already satisfied: packaging in /Users/ranganaigwati/opt/anaconda3/lib/python3.9/site-packages (from tensorflow) (21.3)\n",
      "Requirement already satisfied: wheel<1.0,>=0.23.0 in /Users/ranganaigwati/opt/anaconda3/lib/python3.9/site-packages (from astunparse>=1.6.0->tensorflow) (0.37.1)\n",
      "Requirement already satisfied: google-auth<3,>=1.6.3 in /Users/ranganaigwati/opt/anaconda3/lib/python3.9/site-packages (from tensorboard<2.10,>=2.9->tensorflow) (1.33.0)\n",
      "Collecting tensorboard-plugin-wit>=1.6.0\n",
      "  Using cached tensorboard_plugin_wit-1.8.1-py3-none-any.whl (781 kB)\n",
      "Requirement already satisfied: markdown>=2.6.8 in /Users/ranganaigwati/opt/anaconda3/lib/python3.9/site-packages (from tensorboard<2.10,>=2.9->tensorflow) (3.3.4)\n",
      "Requirement already satisfied: werkzeug>=1.0.1 in /Users/ranganaigwati/opt/anaconda3/lib/python3.9/site-packages (from tensorboard<2.10,>=2.9->tensorflow) (2.0.3)\n",
      "Collecting tensorboard-data-server<0.7.0,>=0.6.0\n",
      "  Using cached tensorboard_data_server-0.6.1-py3-none-macosx_10_9_x86_64.whl (3.5 MB)\n",
      "Requirement already satisfied: requests<3,>=2.21.0 in /Users/ranganaigwati/opt/anaconda3/lib/python3.9/site-packages (from tensorboard<2.10,>=2.9->tensorflow) (2.27.1)\n",
      "Collecting google-auth-oauthlib<0.5,>=0.4.1\n",
      "  Using cached google_auth_oauthlib-0.4.6-py2.py3-none-any.whl (18 kB)\n",
      "Requirement already satisfied: pyasn1-modules>=0.2.1 in /Users/ranganaigwati/opt/anaconda3/lib/python3.9/site-packages (from google-auth<3,>=1.6.3->tensorboard<2.10,>=2.9->tensorflow) (0.2.8)\n",
      "Requirement already satisfied: rsa<5,>=3.1.4 in /Users/ranganaigwati/opt/anaconda3/lib/python3.9/site-packages (from google-auth<3,>=1.6.3->tensorboard<2.10,>=2.9->tensorflow) (4.7.2)\n",
      "Requirement already satisfied: cachetools<5.0,>=2.0.0 in /Users/ranganaigwati/opt/anaconda3/lib/python3.9/site-packages (from google-auth<3,>=1.6.3->tensorboard<2.10,>=2.9->tensorflow) (4.2.2)\n",
      "Collecting requests-oauthlib>=0.7.0\n",
      "  Using cached requests_oauthlib-1.3.1-py2.py3-none-any.whl (23 kB)\n",
      "Requirement already satisfied: pyasn1<0.5.0,>=0.4.6 in /Users/ranganaigwati/opt/anaconda3/lib/python3.9/site-packages (from pyasn1-modules>=0.2.1->google-auth<3,>=1.6.3->tensorboard<2.10,>=2.9->tensorflow) (0.4.8)\n",
      "Requirement already satisfied: certifi>=2017.4.17 in /Users/ranganaigwati/opt/anaconda3/lib/python3.9/site-packages (from requests<3,>=2.21.0->tensorboard<2.10,>=2.9->tensorflow) (2021.10.8)\n",
      "Requirement already satisfied: idna<4,>=2.5 in /Users/ranganaigwati/opt/anaconda3/lib/python3.9/site-packages (from requests<3,>=2.21.0->tensorboard<2.10,>=2.9->tensorflow) (3.3)\n",
      "Requirement already satisfied: urllib3<1.27,>=1.21.1 in /Users/ranganaigwati/opt/anaconda3/lib/python3.9/site-packages (from requests<3,>=2.21.0->tensorboard<2.10,>=2.9->tensorflow) (1.26.9)\n",
      "Requirement already satisfied: charset-normalizer~=2.0.0 in /Users/ranganaigwati/opt/anaconda3/lib/python3.9/site-packages (from requests<3,>=2.21.0->tensorboard<2.10,>=2.9->tensorflow) (2.0.4)\n",
      "Collecting oauthlib>=3.0.0\n",
      "  Using cached oauthlib-3.2.0-py3-none-any.whl (151 kB)\n",
      "Requirement already satisfied: pyparsing!=3.0.5,>=2.0.2 in /Users/ranganaigwati/opt/anaconda3/lib/python3.9/site-packages (from packaging->tensorflow) (3.0.4)\n",
      "Building wheels for collected packages: termcolor\n",
      "  Building wheel for termcolor (setup.py) ... \u001b[?25ldone\n",
      "\u001b[?25h  Created wheel for termcolor: filename=termcolor-1.1.0-py3-none-any.whl size=4848 sha256=19b183e73b91abf05e23b146a071c5aa9866344e795d7636c46c6c8962984776\n",
      "  Stored in directory: /Users/ranganaigwati/Library/Caches/pip/wheels/b6/0d/90/0d1bbd99855f99cb2f6c2e5ff96f8023fad8ec367695f7d72d\n",
      "Successfully built termcolor\n",
      "Installing collected packages: oauthlib, requests-oauthlib, tensorboard-plugin-wit, tensorboard-data-server, google-auth-oauthlib, absl-py, termcolor, tensorflow-io-gcs-filesystem, tensorflow-estimator, tensorboard, opt-einsum, libclang, keras-preprocessing, keras, google-pasta, gast, flatbuffers, astunparse, tensorflow\n",
      "Successfully installed absl-py-1.2.0 astunparse-1.6.3 flatbuffers-1.12 gast-0.4.0 google-auth-oauthlib-0.4.6 google-pasta-0.2.0 keras-2.9.0 keras-preprocessing-1.1.2 libclang-14.0.6 oauthlib-3.2.0 opt-einsum-3.3.0 requests-oauthlib-1.3.1 tensorboard-2.9.1 tensorboard-data-server-0.6.1 tensorboard-plugin-wit-1.8.1 tensorflow-2.9.1 tensorflow-estimator-2.9.0 tensorflow-io-gcs-filesystem-0.26.0 termcolor-1.1.0\n",
      "Collecting transformers\n",
      "  Using cached transformers-4.21.1-py3-none-any.whl (4.7 MB)\n",
      "Requirement already satisfied: filelock in /Users/ranganaigwati/opt/anaconda3/lib/python3.9/site-packages (from transformers) (3.6.0)\n",
      "Requirement already satisfied: numpy>=1.17 in /Users/ranganaigwati/opt/anaconda3/lib/python3.9/site-packages (from transformers) (1.21.5)\n",
      "Requirement already satisfied: regex!=2019.12.17 in /Users/ranganaigwati/opt/anaconda3/lib/python3.9/site-packages (from transformers) (2022.3.15)\n",
      "Requirement already satisfied: packaging>=20.0 in /Users/ranganaigwati/opt/anaconda3/lib/python3.9/site-packages (from transformers) (21.3)\n",
      "Requirement already satisfied: pyyaml>=5.1 in /Users/ranganaigwati/opt/anaconda3/lib/python3.9/site-packages (from transformers) (6.0)\n",
      "Requirement already satisfied: tqdm>=4.27 in /Users/ranganaigwati/opt/anaconda3/lib/python3.9/site-packages (from transformers) (4.64.0)\n",
      "Requirement already satisfied: requests in /Users/ranganaigwati/opt/anaconda3/lib/python3.9/site-packages (from transformers) (2.27.1)\n"
     ]
    },
    {
     "name": "stdout",
     "output_type": "stream",
     "text": [
      "Collecting tokenizers!=0.11.3,<0.13,>=0.11.1\n",
      "  Downloading tokenizers-0.12.1-cp39-cp39-macosx_10_11_x86_64.whl (3.6 MB)\n",
      "\u001b[K     |████████████████████████████████| 3.6 MB 4.2 MB/s eta 0:00:01\n",
      "\u001b[?25hCollecting huggingface-hub<1.0,>=0.1.0\n",
      "  Using cached huggingface_hub-0.8.1-py3-none-any.whl (101 kB)\n",
      "Requirement already satisfied: typing-extensions>=3.7.4.3 in /Users/ranganaigwati/opt/anaconda3/lib/python3.9/site-packages (from huggingface-hub<1.0,>=0.1.0->transformers) (4.1.1)\n",
      "Requirement already satisfied: pyparsing!=3.0.5,>=2.0.2 in /Users/ranganaigwati/opt/anaconda3/lib/python3.9/site-packages (from packaging>=20.0->transformers) (3.0.4)\n",
      "Requirement already satisfied: urllib3<1.27,>=1.21.1 in /Users/ranganaigwati/opt/anaconda3/lib/python3.9/site-packages (from requests->transformers) (1.26.9)\n",
      "Requirement already satisfied: certifi>=2017.4.17 in /Users/ranganaigwati/opt/anaconda3/lib/python3.9/site-packages (from requests->transformers) (2021.10.8)\n",
      "Requirement already satisfied: charset-normalizer~=2.0.0 in /Users/ranganaigwati/opt/anaconda3/lib/python3.9/site-packages (from requests->transformers) (2.0.4)\n",
      "Requirement already satisfied: idna<4,>=2.5 in /Users/ranganaigwati/opt/anaconda3/lib/python3.9/site-packages (from requests->transformers) (3.3)\n",
      "Installing collected packages: tokenizers, huggingface-hub, transformers\n",
      "Successfully installed huggingface-hub-0.8.1 tokenizers-0.12.1 transformers-4.21.1\n",
      "Collecting torch\n",
      "  Downloading torch-1.12.1-cp39-none-macosx_10_9_x86_64.whl (133.8 MB)\n",
      "\u001b[K     |████████████████████████████████| 133.8 MB 79 kB/s s eta 0:00:01   |████▊                           | 19.6 MB 9.6 MB/s eta 0:00:12622 kB/s eta 0:01:13     |█████████████████████▊          | 91.0 MB 622 kB/s eta 0:01:09     |██████████████████████▍         | 93.8 MB 622 kB/s eta 0:01:05     |██████████████████████▉         | 95.6 MB 622 kB/s eta 0:01:02     |███████████████████████▎        | 97.3 MB 622 kB/s eta 0:00:59\n",
      "\u001b[?25hRequirement already satisfied: typing-extensions in /Users/ranganaigwati/opt/anaconda3/lib/python3.9/site-packages (from torch) (4.1.1)\n",
      "Installing collected packages: torch\n",
      "Successfully installed torch-1.12.1\n",
      "Collecting emoji==0.6.0\n",
      "  Using cached emoji-0.6.0.tar.gz (51 kB)\n",
      "Building wheels for collected packages: emoji\n",
      "  Building wheel for emoji (setup.py) ... \u001b[?25ldone\n",
      "\u001b[?25h  Created wheel for emoji: filename=emoji-0.6.0-py3-none-any.whl size=49734 sha256=acb2fd1e91fc07336c8ebb9fd5e73b6a8727d48716a7d392bf10d165d763a943\n",
      "  Stored in directory: /Users/ranganaigwati/Library/Caches/pip/wheels/70/2a/7f/1a0012c86b1061c6ee2ed9568b1f830f857a51e8e416452af2\n",
      "Successfully built emoji\n",
      "Installing collected packages: emoji\n",
      "Successfully installed emoji-0.6.0\n"
     ]
    }
   ],
   "source": [
    "#Install the relevant modules if they are not already there\n",
    "# !pip install transformers\n",
    "!pip install tensorflow\n",
    "\n",
    "#From the imports document\n",
    "!pip install transformers \n",
    "!pip install torch\n",
    "!pip install emoji==0.6.0\n",
    "\n",
    "from transformers import pipeline\n",
    "\n"
   ]
  },
  {
   "cell_type": "code",
   "execution_count": 3,
   "id": "f67dcb2b",
   "metadata": {
    "scrolled": true
   },
   "outputs": [],
   "source": [
    "import csv # Allows us to read and write csv files\n",
    "from pprint import pprint # Make our print functions easier to read\n",
    "\n",
    "from transformers import pipeline # Hugging face pipeline to load online models\n",
    "import torch"
   ]
  },
  {
   "cell_type": "markdown",
   "id": "62d4028f",
   "metadata": {},
   "source": [
    "🤗 Transformers provides thousands of pretrained models to perform tasks on different modalities such as text, vision, and audio.\n",
    "\n",
    "These models can be applied on:\n",
    "- 📝 Text, for tasks like text classification, information extraction, question answering, summarization, translation, text generation, in over 100 languages.\n",
    "\n",
    "- 🖼️ Images, for tasks like image classification, object detection, and segmentation.\n",
    "- 🗣️ Audio, for tasks like speech recognition and audio classification.\n",
    "\n",
    "This is the pipeline method in transformers that we'll be using to analyze our sentiment data. Since we're not specifying a pretrained model, the pipeline has a default sentiment analysis model called [distilbert-base-uncased-finetuned-sst-2-english](https://huggingface.co/distilbert-base-uncased-finetuned-sst-2-english)."
   ]
  },
  {
   "cell_type": "code",
   "execution_count": 4,
   "id": "9c3e6e41",
   "metadata": {},
   "outputs": [
    {
     "name": "stderr",
     "output_type": "stream",
     "text": [
      "No model was supplied, defaulted to distilbert-base-uncased-finetuned-sst-2-english and revision af0f99b (https://huggingface.co/distilbert-base-uncased-finetuned-sst-2-english).\n",
      "Using a pipeline without specifying a model name and revision in production is not recommended.\n"
     ]
    },
    {
     "data": {
      "application/vnd.jupyter.widget-view+json": {
       "model_id": "1e333474ce1f46ce8588c9e3f20af17b",
       "version_major": 2,
       "version_minor": 0
      },
      "text/plain": [
       "Downloading pytorch_model.bin:   0%|          | 0.00/255M [00:00<?, ?B/s]"
      ]
     },
     "metadata": {},
     "output_type": "display_data"
    },
    {
     "data": {
      "application/vnd.jupyter.widget-view+json": {
       "model_id": "5377a1f44b694ef4a01166021b2e7ccf",
       "version_major": 2,
       "version_minor": 0
      },
      "text/plain": [
       "Downloading tokenizer_config.json:   0%|          | 0.00/48.0 [00:00<?, ?B/s]"
      ]
     },
     "metadata": {},
     "output_type": "display_data"
    },
    {
     "data": {
      "application/vnd.jupyter.widget-view+json": {
       "model_id": "e0cbbe91d0f24a0aaea4e3546f647792",
       "version_major": 2,
       "version_minor": 0
      },
      "text/plain": [
       "Downloading vocab.txt:   0%|          | 0.00/226k [00:00<?, ?B/s]"
      ]
     },
     "metadata": {},
     "output_type": "display_data"
    }
   ],
   "source": [
    "sentiment_pipeline = pipeline(\"sentiment-analysis\")"
   ]
  },
  {
   "cell_type": "markdown",
   "id": "e30b34b2",
   "metadata": {},
   "source": [
    "In this example, we'll supply two polar sentiments and test out the model pipeline."
   ]
  },
  {
   "cell_type": "code",
   "execution_count": 5,
   "id": "de41c494",
   "metadata": {},
   "outputs": [
    {
     "data": {
      "text/plain": [
       "[{'label': 'POSITIVE', 'score': 0.9998694658279419},\n",
       " {'label': 'NEGATIVE', 'score': 0.994263231754303}]"
      ]
     },
     "execution_count": 5,
     "metadata": {},
     "output_type": "execute_result"
    }
   ],
   "source": [
    "data = [\"This is great!\", \"Oh no!\"]\n",
    "sentiment_pipeline(data)"
   ]
  },
  {
   "cell_type": "markdown",
   "id": "39d04139",
   "metadata": {},
   "source": [
    "The `label` in this case indicates the prediction for the sentiment type.\n",
    "\n",
    "The `score` indicates the confidence of the prediction (between 0 and 1).\n",
    "\n",
    "Since our sentiments were very polar, it was easier for the model to predict the sentiment type.\n",
    "\n",
    "Let's see what happens when we use a less clear example:"
   ]
  },
  {
   "cell_type": "code",
   "execution_count": 6,
   "id": "c077f881",
   "metadata": {},
   "outputs": [
    {
     "data": {
      "text/plain": [
       "[{'label': 'NEGATIVE', 'score': 0.9955562949180603},\n",
       " {'label': 'NEGATIVE', 'score': 0.9860844016075134}]"
      ]
     },
     "execution_count": 6,
     "metadata": {},
     "output_type": "execute_result"
    }
   ],
   "source": [
    "challenging_sentiments = [\"I don't think freddriq should leave, he's been helpful.\",\n",
    "                          \"Is that the lake we went to last month?\"]\n",
    "sentiment_pipeline(challenging_sentiments)"
   ]
  },
  {
   "cell_type": "markdown",
   "id": "c64b62d4",
   "metadata": {},
   "source": [
    "<hr>\n",
    "\n",
    "### Loading the Twitter Data\n",
    "\n",
    "Let's play with some twitter data. We'll be using a modified version of the [Elon Musk twitter dataset on Kaggle](https://www.kaggle.com/datasets/andradaolteanu/all-elon-musks-tweets)."
   ]
  },
  {
   "cell_type": "code",
   "execution_count": 8,
   "id": "4c1a44d0",
   "metadata": {},
   "outputs": [
    {
     "name": "stdout",
     "output_type": "stream",
     "text": [
      "['@vincent13031925 For now. Costs are decreasing rapidly.',\n",
      " 'Love this beautiful shot',\n",
      " '@agnostoxxx @CathieDWood @ARKInvest Trust the shrub',\n",
      " 'The art In Cyberpunk is incredible',\n",
      " '@itsALLrisky 🤣🤣',\n",
      " '@seinfeldguru @WholeMarsBlog Nope haha',\n",
      " '@WholeMarsBlog If you don’t say anything &amp; engage Autopilot, it will '\n",
      " 'soon guess based on time of day, taking you home or to work or to what’s on '\n",
      " 'your calendar',\n",
      " '@DeltavPhotos @PortCanaveral That rocket is a hardcore veteran of many '\n",
      " 'missions',\n",
      " 'Blimps rock  https://t.co/e8cu5FkNOI',\n",
      " '@engineers_feed Due to lower gravity, you can travel from surface of Mars to '\n",
      " 'surface of Earth fairly easily with a single stage rocket. Earth to Mars is '\n",
      " 'vastly harder.',\n",
      " '@DrPhiltill Good thread',\n",
      " '@alexellisuk Pretty much',\n",
      " '@tesla_adri @WholeMarsBlog These things are best thought of as '\n",
      " 'probabilities. There are 5 forward-facing cameras. It is highly likely that '\n",
      " 'at least one of them will see multiple cars ahead.',\n",
      " '@WholeMarsBlog Sensors are a bitstream and cameras have several orders of '\n",
      " 'magnitude more bits/sec than radar (or lidar).   Radar must meaningfully '\n",
      " 'increase signal/noise of bitstream to be worth complexity of integrating '\n",
      " 'it.   As vision processing gets better, it just leaves radar far behind.',\n",
      " '@WholeMarsBlog When radar and vision disagree, which one do you believe? '\n",
      " 'Vision has much more precision, so better to double down on vision than do '\n",
      " 'sensor fusion.',\n",
      " '@WholeMarsBlog This is a major problem!',\n",
      " 'Just needs some legs',\n",
      " 'The Starship launch tower that catches the giant rocket booster is basically '\n",
      " 'Mechazilla',\n",
      " 'But wait how is the core of the earth lit by the sun? Stop asking '\n",
      " 'questions!!',\n",
      " 'Kong vs Godzilla has record for most meth ever consumed in a writer’s room',\n",
      " '@itsALLrisky 💯',\n",
      " '… going to moon very soon',\n",
      " '@Matsu_Kusarine @jagarikin Actually happened to me in Cyberpunk haha',\n",
      " '@TimBirks1 @Erdayastronaut @SpaceX Pretty much',\n",
      " '@memescryptor !',\n",
      " 'Where is Shrek 5!?  https://t.co/PqAZ5Mg8Es',\n",
      " '@AustinTeslaClub @OwenSparks_ @WholeMarsBlog Good point.   Next major '\n",
      " 'software rev will do much better with automating wipers, seat heating &amp; '\n",
      " 'defrost.   Probable seat settings just based on occupant mass distribution '\n",
      " 'should be possible.',\n",
      " '@Adamklotz_ @OwenSparks_ @WholeMarsBlog Yup',\n",
      " '@teslaownersSV @neuralink Turns out 🐒 love video games &amp; snacks just '\n",
      " 'like us!',\n",
      " 'It’s all about the cufflinks  https://t.co/elccqC0Zuf',\n",
      " '@chicago_glenn I feel like this sometimes',\n",
      " '@OwenSparks_ @WholeMarsBlog It will',\n",
      " '@OwenSparks_ @WholeMarsBlog Remove',\n",
      " '@w00ki33 @SpaceX @SuperclusterHQ Simulation is improving rendering '\n",
      " 'resolution  …',\n",
      " '@cleantechnica Congrats to NIO. That is a tough milestone.',\n",
      " '@WholeMarsBlog Almost ready with FSD Beta V9.0. Step change improvement is '\n",
      " 'massive, especially for weird corner cases &amp; bad weather. Pure vision, '\n",
      " 'no radar.',\n",
      " 'Thanks to all that helped SpaceX!',\n",
      " 'Just read it. Book is accurate.',\n",
      " '@TeslaGong Yeah',\n",
      " '@mikevanbus @TrungTPhan @neuralink Pretty much',\n",
      " ' https://t.co/XeQursZpvq',\n",
      " 'Soon our monkey will be on twitch &amp; discord haha',\n",
      " '@thenewsoncnbc @contessabrewer Good piece!',\n",
      " '@Kyler_Knoll @neuralink Comes with wireless charging baseball cap',\n",
      " '@TarekWaked @TechCrunch @etherington Pretty much 🤣🤣 Great episode!',\n",
      " 'A monkey is literally playing a video game telepathically using a brain '\n",
      " 'chip!!',\n",
      " '@lexfridman @neuralink Yes',\n",
      " 'The device is implanted flush with skull &amp; charges wirelessly, so you '\n",
      " 'look &amp; feel totally normal',\n",
      " '@IheartTesla Absolutely doable. Possibly as soon as Neuralink device version '\n",
      " '2, highly likely by version 3.',\n",
      " 'Later versions will be able to shunt signals from Neuralinks in brain to '\n",
      " 'Neuralinks in body motor/sensory neuron clusters, thus enabling, for '\n",
      " 'example, paraplegics to walk again',\n",
      " '@mindofkacper @neuralink Yes',\n",
      " 'First @Neuralink product will enable someone with paralysis to use a '\n",
      " 'smartphone with their mind faster than someone using thumbs',\n",
      " '@IheartTesla @neuralink Hopefully, later this year',\n",
      " '@tobyliiiiiiiiii Sure',\n",
      " 'Monkey plays Pong with his mind',\n",
      " '@dogeofficialceo @WatchersTank @SpaceX Looking at pups soon!',\n",
      " '@jordanxmajel @WatchersTank @SpaceX Shock absorption is built into tower '\n",
      " 'arms. Since tower is ground side, it can use a lot more mass to arrest '\n",
      " 'booster downward momentum.',\n",
      " '@jordanxmajel @WatchersTank @SpaceX Load points just below the grid fins',\n",
      " '@WatchersTank @SpaceX Just one skyscraper catching another nbd haha',\n",
      " 'Thanks Tesla suppliers for providing us with critical parts!',\n",
      " '@MarkJam93765764 @IvanEscobosa A tidal wave of vaccine is being produced!',\n",
      " '@jgrano305 Probably J&amp;J, but BioNtech &amp; Moderna are good too. Some '\n",
      " 'debate imo as to whether a second synthetic mRNA shot is really needed, but '\n",
      " 'the first is a no-brainer.',\n",
      " '@IvanEscobosa Latter',\n",
      " 'To be clear, I do support vaccines in general &amp; covid vaccines '\n",
      " 'specifically. The science is unequivocal.   In very rare cases, there is an '\n",
      " 'allergic reaction, but this is easily addressed with an EpiPen.',\n",
      " '@DavidWillisSLS @_Jevis_ @PPathole Needs legs for moon &amp; Mars',\n",
      " '@SciGuySpace Global payload to orbit is the key metric',\n",
      " '@Julius_Burton @Erdayastronaut @DJSnM @NASASpaceflight @ChrisG_NSF '\n",
      " '@thejackbeyer @FelixSchlang Nice',\n",
      " '@_Jevis_ @PPathole Ideal scenario imo is catching Starship in horizontal '\n",
      " '“glide” with no landing burn, although that is quite a challenge for the '\n",
      " 'tower! Next best is catching with tower, with emergency pad landing mode on '\n",
      " 'skirt (no legs).',\n",
      " '@PPathole Starship booster, largest flying object ever designed, will be '\n",
      " 'caught out of sky by launch tower. Big step forward, as reflight can be done '\n",
      " 'in under an hour.',\n",
      " '@WholeMarsBlog Well-written and fair, much like his articles on space',\n",
      " '@louisssdev @flcnhvy Coming soon. Crazy number of launches this year!',\n",
      " '@flcnhvy They will be recovered from the water &amp; reused',\n",
      " '“Tanks for the memery!” – Panzer of the Lake',\n",
      " '@CathieDWood @wintonARK @ARKInvest What do you think of the unusually high '\n",
      " 'ratio of S&amp;P market cap to GDP?',\n",
      " '@ID_AA_Carmack Some kind of ELO level, updated once or twice a year based on '\n",
      " 'what someone actually got done, might be most effective. Important that it '\n",
      " 'go both up *and* down.',\n",
      " '@Thomas38697956 New &amp; improved version!',\n",
      " '@Teslarati @ResidentSponge Special mention of Tesla China',\n",
      " '@shbzz Obv',\n",
      " '@Teslarati @ResidentSponge Great work by Tesla team!',\n",
      " '@EvaFoxU Nice',\n",
      " 'The Earth is not flat, it’s a hollow globe &amp; Donkey King lives there!',\n",
      " '@EvaFoxU Those two really could have come in handy for the stuck ship!',\n",
      " '@EvaFoxU Last Kingdom vs Vikings',\n",
      " '@spacex360 Ascent phase, transition to horizontal &amp; control during free '\n",
      " 'fall were good.   A (relatively) small CH4 leak led to fire on engine 2 '\n",
      " '&amp; fried part of avionics, causing hard start attempting landing burn in '\n",
      " 'CH4 turbopump.   This is getting fixed 6 ways to Sunday.',\n",
      " 'Godzilla vs Kong is so amaze much wow! Most insane movie I’ve ever seen! '\n",
      " 'Love letter to conspiracy theorists! And yet heartwarming in the end.',\n",
      " '@TerminalCount The Starships feast in Valhalla!',\n",
      " '@TerminalCount One of the greatest things I’ve ever seen',\n",
      " '@floko12022021 @HamblinZeke @katlinegrey Ich habe ein Semester Deutsch an '\n",
      " 'der Universität studiert usw',\n",
      " '@HamblinZeke @katlinegrey Haha Falcon? Nein!',\n",
      " '@tobyliiiiiiiiii @katlinegrey I recommend propulsive landing, as that is '\n",
      " 'extensible to planets, moons &amp; asteroids. Wings &amp; runways are '\n",
      " 'limited to Earth.',\n",
      " '@PPathole @katlinegrey For practical purposes, there is no limit. It will '\n",
      " 'just get increasingly difficult to service.',\n",
      " '@katlinegrey This a good path, but I recommend aiming for full reusability',\n",
      " 'Urgent need to build more housing in greater Austin area!',\n",
      " 'Austin++',\n",
      " 'No it doesn’t hurt at all 🩸  https://t.co/NnL6o1si0V',\n",
      " '@allrocketsboi True',\n",
      " '@GerberKawasaki I fried a lot of neurons on that problem!',\n",
      " 'Me in my sick new car (left him the money)  https://t.co/EGaY1FVfHm',\n",
      " '@TrungTPhan Had no money to invest in Zip2, but my founder equity yielded '\n",
      " '~$15M after tax. Of that, I rolled ~$10M into PayPal, which yielded ~$180M, '\n",
      " 'then …   Basic principle is that I would not ask investors to risk money on '\n",
      " 'my company if I would not also do so.',\n",
      " '@Gfilche Major new Supercharger station coming to Santa Monica soon! Hoping '\n",
      " 'to have 50’s diner &amp; 100 best movie clips playing too. Thanks Santa '\n",
      " 'Monica city!']\n"
     ]
    }
   ],
   "source": [
    "with open('../data/elonmusk_tweets.csv', newline='', encoding='utf8') as f:\n",
    "    tweets=[]\n",
    "    reader = csv.reader(f)\n",
    "    twitter_data = list(reader)\n",
    "    for tweet in twitter_data:\n",
    "        tweets.append(tweet[0])\n",
    "\n",
    "pprint(tweets[:100])"
   ]
  },
  {
   "cell_type": "markdown",
   "id": "e630a8f1",
   "metadata": {},
   "source": [
    "First things first - let's look at the sentiment as determined by the [distilbert-base-uncased-finetuned-sst-2-english](https://huggingface.co/distilbert-base-uncased-finetuned-sst-2-english) (default model) in the pipeline."
   ]
  },
  {
   "cell_type": "code",
   "execution_count": 9,
   "id": "42b10279",
   "metadata": {},
   "outputs": [],
   "source": [
    "distil_sentiment = sentiment_pipeline(tweets[0:100])"
   ]
  },
  {
   "cell_type": "markdown",
   "id": "8ce3fefd",
   "metadata": {},
   "source": [
    "Let's check out the distribution of positive/negative Tweets and see the breakdown using Python's 🐍 standard library `collections.Counter`!"
   ]
  },
  {
   "cell_type": "code",
   "execution_count": 10,
   "id": "971a841d",
   "metadata": {},
   "outputs": [
    {
     "name": "stdout",
     "output_type": "stream",
     "text": [
      "49 (49.00%) of the tweets classified are positive.\n",
      "51 (51.00%) of the tweets classified are negative.\n"
     ]
    }
   ],
   "source": [
    "from collections import Counter\n",
    "\n",
    "tweet_distro = Counter([x['label'] for x in distil_sentiment])\n",
    "pos_sent_count = tweet_distro['POSITIVE']\n",
    "neg_sent_count = tweet_distro['NEGATIVE']\n",
    "total_sent_count = sum(tweet_distro.values())\n",
    "\n",
    "print(f\"{pos_sent_count} ({pos_sent_count / total_sent_count * 100:.2f}%) of the tweets classified are positive.\")\n",
    "print(f\"{neg_sent_count} ({neg_sent_count / total_sent_count * 100:.2f}%) of the tweets classified are negative.\")"
   ]
  },
  {
   "cell_type": "markdown",
   "id": "42155a0c",
   "metadata": {},
   "source": [
    "Let's do that process again, but use a model with an additional potential label \"NEUTRAL\" called [bertweet-sentiment-analysis](https://huggingface.co/finiteautomata/bertweet-base-sentiment-analysis)\n",
    "\n",
    "To start - we'll build a pipeline with the new model by using the 🤗 Hugging Face address: `finiteautomata/bertweet-base-sentiment-analysis`"
   ]
  },
  {
   "cell_type": "code",
   "execution_count": 11,
   "id": "3fd6e37f",
   "metadata": {},
   "outputs": [
    {
     "data": {
      "application/vnd.jupyter.widget-view+json": {
       "model_id": "8d31606b98cb43b3a575efb4215b60db",
       "version_major": 2,
       "version_minor": 0
      },
      "text/plain": [
       "Downloading:   0%|          | 0.00/1.13k [00:00<?, ?B/s]"
      ]
     },
     "metadata": {},
     "output_type": "display_data"
    },
    {
     "data": {
      "application/vnd.jupyter.widget-view+json": {
       "model_id": "749b1dc994984c2996ee2bb98a163652",
       "version_major": 2,
       "version_minor": 0
      },
      "text/plain": [
       "Downloading pytorch_model.bin:   0%|          | 0.00/515M [00:00<?, ?B/s]"
      ]
     },
     "metadata": {},
     "output_type": "display_data"
    },
    {
     "data": {
      "application/vnd.jupyter.widget-view+json": {
       "model_id": "46e86b0ebabb425db371b036ea882c8c",
       "version_major": 2,
       "version_minor": 0
      },
      "text/plain": [
       "Downloading tokenizer_config.json:   0%|          | 0.00/295 [00:00<?, ?B/s]"
      ]
     },
     "metadata": {},
     "output_type": "display_data"
    },
    {
     "data": {
      "application/vnd.jupyter.widget-view+json": {
       "model_id": "ae0b6f3e6db548dab53547ba5fb6227a",
       "version_major": 2,
       "version_minor": 0
      },
      "text/plain": [
       "Downloading vocab.txt:   0%|          | 0.00/824k [00:00<?, ?B/s]"
      ]
     },
     "metadata": {},
     "output_type": "display_data"
    },
    {
     "data": {
      "application/vnd.jupyter.widget-view+json": {
       "model_id": "52c13a04fda14745a9bceda8ff9b3d56",
       "version_major": 2,
       "version_minor": 0
      },
      "text/plain": [
       "Downloading bpe.codes:   0%|          | 0.00/1.03M [00:00<?, ?B/s]"
      ]
     },
     "metadata": {},
     "output_type": "display_data"
    },
    {
     "data": {
      "application/vnd.jupyter.widget-view+json": {
       "model_id": "ab4b31b565bd409e94488e339bef5ecb",
       "version_major": 2,
       "version_minor": 0
      },
      "text/plain": [
       "Downloading added_tokens.json:   0%|          | 0.00/17.0 [00:00<?, ?B/s]"
      ]
     },
     "metadata": {},
     "output_type": "display_data"
    },
    {
     "data": {
      "application/vnd.jupyter.widget-view+json": {
       "model_id": "7ade9dbcd8f84b42ac882a058208343f",
       "version_major": 2,
       "version_minor": 0
      },
      "text/plain": [
       "Downloading special_tokens_map.json:   0%|          | 0.00/150 [00:00<?, ?B/s]"
      ]
     },
     "metadata": {},
     "output_type": "display_data"
    }
   ],
   "source": [
    "bertweet_pipeline = pipeline(model=\"finiteautomata/bertweet-base-sentiment-analysis\")"
   ]
  },
  {
   "cell_type": "markdown",
   "id": "7025127d",
   "metadata": {},
   "source": [
    "Next, and the same as before, let's run the analysis on 100 of Elon's tweets."
   ]
  },
  {
   "cell_type": "code",
   "execution_count": 12,
   "id": "5daa650d",
   "metadata": {},
   "outputs": [],
   "source": [
    "bert_sentiment = bertweet_pipeline(tweets[0:100])"
   ]
  },
  {
   "cell_type": "markdown",
   "id": "6d8a316d",
   "metadata": {},
   "source": [
    "And then, let's check out the breakdown of positive, negative, AND neutral sentiments!"
   ]
  },
  {
   "cell_type": "code",
   "execution_count": 13,
   "id": "6996cc58",
   "metadata": {},
   "outputs": [
    {
     "name": "stdout",
     "output_type": "stream",
     "text": [
      "29 (29.00%) of the tweets classified are positive.\n",
      "64 (64.00%) of the tweets classified are neutral.\n",
      "7 (7.00%) of the tweets classified are negative.\n"
     ]
    }
   ],
   "source": [
    "from collections import Counter\n",
    "\n",
    "tweet_distro = Counter([x['label'] for x in bert_sentiment])\n",
    "pos_sent_count = tweet_distro['POS']\n",
    "neu_sent_count = tweet_distro['NEU']\n",
    "neg_sent_count = tweet_distro['NEG']\n",
    "total_sent_count = sum(tweet_distro.values())\n",
    "\n",
    "print(f\"{pos_sent_count} ({pos_sent_count / total_sent_count * 100:.2f}%) of the tweets classified are positive.\")\n",
    "print(f\"{neu_sent_count} ({neu_sent_count / total_sent_count * 100:.2f}%) of the tweets classified are neutral.\")\n",
    "print(f\"{neg_sent_count} ({neg_sent_count / total_sent_count * 100:.2f}%) of the tweets classified are negative.\")"
   ]
  },
  {
   "cell_type": "markdown",
   "id": "8185798d",
   "metadata": {},
   "source": [
    "❓ What do you notice about the difference in the results? \n",
    "\n",
    "❓ Do the results for the `bertweet-base` model look better, or worse, than the results for the `distilbert-base` model? Why?"
   ]
  },
  {
   "cell_type": "markdown",
   "id": "6684f9ae",
   "metadata": {},
   "source": [
    "<hr>\n",
    "\n",
    "### Partner Exercise\n",
    "\n",
    "With your partner, try and determine what the following tweets might be classified as. Try to classify them into the same groups as both of the model pipelines we saw today - and try adding a few of your own sentences/Tweets! "
   ]
  },
  {
   "cell_type": "code",
   "execution_count": 17,
   "id": "dcc55db9",
   "metadata": {},
   "outputs": [],
   "source": [
    "example_difficult_tweets = [\n",
    "    \"Kong vs Godzilla has record for most meth ever consumed in a writer's room\",\n",
    "    \"@ashleevance Battery energy density is the key to electric aircraft. Autonomy for aircraft could have been done a long time ago. Modern airliners are very close to autonomous.\",\n",
    "    \"Tesla's action is not directly reflective of my opinion. Having some Bitcoin, which is simply a less dumb form of liquidity than cash, is adventurous enough for an S&P500 company.\",\n",
    "    \"Tesla is not safe\", #my own option 1\n",
    "    \"Tesla is not that bad\" #My own option 2,\n",
    "]"
   ]
  },
  {
   "cell_type": "markdown",
   "id": "324e3837",
   "metadata": {},
   "source": [
    "The `distilbert-base` model:"
   ]
  },
  {
   "cell_type": "code",
   "execution_count": 18,
   "id": "3fd3d5a9",
   "metadata": {},
   "outputs": [
    {
     "name": "stdout",
     "output_type": "stream",
     "text": [
      "[{'label': 'POSITIVE', 'score': 0.5429087281227112}]\n",
      "Kong vs Godzilla has record for most meth ever consumed in a writer's room\n",
      "\n",
      "[{'label': 'NEGATIVE', 'score': 0.6348381042480469}]\n",
      "@ashleevance Battery energy density is the key to electric aircraft. Autonomy for aircraft could have been done a long time ago. Modern airliners are very close to autonomous.\n",
      "\n",
      "[{'label': 'POSITIVE', 'score': 0.941969096660614}]\n",
      "Tesla's action is not directly reflective of my opinion. Having some Bitcoin, which is simply a less dumb form of liquidity than cash, is adventurous enough for an S&P500 company.\n",
      "\n",
      "[{'label': 'NEGATIVE', 'score': 0.9997619986534119}]\n",
      "Tesla is not safe\n",
      "\n",
      "[{'label': 'POSITIVE', 'score': 0.9993839263916016}]\n",
      "Tesla is not that bad\n",
      "\n"
     ]
    }
   ],
   "source": [
    "for tweet in example_difficult_tweets[0:1000]:\n",
    "    pprint(sentiment_pipeline(tweet))\n",
    "    print(tweet + '\\n')"
   ]
  },
  {
   "cell_type": "markdown",
   "id": "61230295",
   "metadata": {},
   "source": [
    "The `bertweet-base` model:"
   ]
  },
  {
   "cell_type": "code",
   "execution_count": 19,
   "id": "82f2d3e2",
   "metadata": {},
   "outputs": [
    {
     "name": "stdout",
     "output_type": "stream",
     "text": [
      "[{'label': 'NEG', 'score': 0.7213014960289001}]\n",
      "Kong vs Godzilla has record for most meth ever consumed in a writer's room\n",
      "\n",
      "[{'label': 'NEU', 'score': 0.802384078502655}]\n",
      "@ashleevance Battery energy density is the key to electric aircraft. Autonomy for aircraft could have been done a long time ago. Modern airliners are very close to autonomous.\n",
      "\n",
      "[{'label': 'NEU', 'score': 0.8843539357185364}]\n",
      "Tesla's action is not directly reflective of my opinion. Having some Bitcoin, which is simply a less dumb form of liquidity than cash, is adventurous enough for an S&P500 company.\n",
      "\n",
      "[{'label': 'NEG', 'score': 0.9778105020523071}]\n",
      "Tesla is not safe\n",
      "\n",
      "[{'label': 'POS', 'score': 0.8662381768226624}]\n",
      "Tesla is not that bad\n",
      "\n"
     ]
    }
   ],
   "source": [
    "for tweet in example_difficult_tweets[0:1000]:\n",
    "    pprint(bertweet_pipeline(tweet))\n",
    "    print(tweet + '\\n')"
   ]
  },
  {
   "cell_type": "markdown",
   "id": "97f2c1c5",
   "metadata": {},
   "source": [
    "❓ How did you do? Did you find any surprising results? \n",
    "\n",
    "❓ Are there any instances where the two models gave different predictions for the same tweet?"
   ]
  }
 ],
 "metadata": {
  "kernelspec": {
   "display_name": "Python 3 (ipykernel)",
   "language": "python",
   "name": "python3"
  },
  "language_info": {
   "codemirror_mode": {
    "name": "ipython",
    "version": 3
   },
   "file_extension": ".py",
   "mimetype": "text/x-python",
   "name": "python",
   "nbconvert_exporter": "python",
   "pygments_lexer": "ipython3",
   "version": "3.9.12"
  },
  "vscode": {
   "interpreter": {
    "hash": "635e31ff34c0350df6e9d804eda70786d94f48b17fcc73c378df4ea6ec0d01fd"
   }
  }
 },
 "nbformat": 4,
 "nbformat_minor": 5
}
