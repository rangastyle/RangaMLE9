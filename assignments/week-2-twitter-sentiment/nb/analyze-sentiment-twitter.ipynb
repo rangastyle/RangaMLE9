{
 "cells": [
  {
   "cell_type": "markdown",
   "id": "24d097db",
   "metadata": {},
   "source": [
    "<p align = \"center\" draggable=”false” ><img src=\"https://user-images.githubusercontent.com/37101144/161836199-fdb0219d-0361-4988-bf26-48b0fad160a3.png\"\n",
    "     width=\"200px\"\n",
    "     height=\"auto\"/>\n",
    "</p>\n",
    "\n",
    "# <h1 align=\"center\" id=\"heading\">Sentiment Analysis of Twitter Data</h1>\n",
    "\n",
    "<hr>\n",
    "\n",
    "\n",
    "### ☑️ Objectives\n",
    "At the end of this session, you will be able to:\n",
    "- [ ] Understand how to find and run pre-trained models\n",
    "- [ ] Evaluate results from pre-trained models\n",
    "- [ ] Run a pre-trained model using real twitter data\n",
    "\n",
    "\n",
    "### 🔨 Pre-Assignment\n",
    "\n",
    "Create a new Conda environment for sentiment anaylsis (sa)\n",
    "\n",
    "```bash\n",
    "  conda create -n sa python=3.8 jupyter -y\n",
    "```\n",
    "\n",
    "Activate your new environment\n",
    "```bash\n",
    "  conda activate sa\n",
    "```\n",
    "\n",
    "Open the jupyter-notebook\n",
    "```bash\n",
    "  jupyter-notebook\n",
    "```\n",
    "\n",
    "Navigate through the repo in the notebook to find `imports.ipynb` for this week and open it.\n",
    "\n",
    "Run all of the cells in the notebook.\n",
    "\n",
    "\n",
    "### Background\n",
    "Please review the weekly narrative [here](https://www.notion.so/Week-2-Data-Centric-AI-the-AI-Product-Lifecycle-72a84c1517b44fcbb3e6bd11d47477dc#2b73937612bb46559f5b91dc2bf55e7d)\n",
    "\n",
    "\n"
   ]
  },
  {
   "cell_type": "markdown",
   "id": "b3934e6e",
   "metadata": {},
   "source": [
    "<hr>"
   ]
  },
  {
   "cell_type": "markdown",
   "id": "d1a5ab14",
   "metadata": {},
   "source": [
    "## 🚀 Let's Get Started"
   ]
  },
  {
   "cell_type": "markdown",
   "id": "bea542cb",
   "metadata": {},
   "source": [
    "Let's first start with our imports"
   ]
  },
  {
   "cell_type": "code",
   "execution_count": 31,
   "id": "ea38f302",
   "metadata": {
    "scrolled": false
   },
   "outputs": [
    {
     "name": "stdout",
     "output_type": "stream",
     "text": [
      "Requirement already satisfied: tensorflow in /Users/ranganaigwati/opt/anaconda3/envs/sa/lib/python3.8/site-packages (2.9.1)\n",
      "Requirement already satisfied: termcolor>=1.1.0 in /Users/ranganaigwati/opt/anaconda3/envs/sa/lib/python3.8/site-packages (from tensorflow) (1.1.0)\n",
      "Requirement already satisfied: tensorboard<2.10,>=2.9 in /Users/ranganaigwati/opt/anaconda3/envs/sa/lib/python3.8/site-packages (from tensorflow) (2.9.1)\n",
      "Requirement already satisfied: keras<2.10.0,>=2.9.0rc0 in /Users/ranganaigwati/opt/anaconda3/envs/sa/lib/python3.8/site-packages (from tensorflow) (2.9.0)\n",
      "Requirement already satisfied: six>=1.12.0 in /Users/ranganaigwati/opt/anaconda3/envs/sa/lib/python3.8/site-packages (from tensorflow) (1.16.0)\n",
      "Requirement already satisfied: tensorflow-io-gcs-filesystem>=0.23.1 in /Users/ranganaigwati/opt/anaconda3/envs/sa/lib/python3.8/site-packages (from tensorflow) (0.26.0)\n",
      "Requirement already satisfied: h5py>=2.9.0 in /Users/ranganaigwati/opt/anaconda3/envs/sa/lib/python3.8/site-packages (from tensorflow) (3.7.0)\n",
      "Requirement already satisfied: protobuf<3.20,>=3.9.2 in /Users/ranganaigwati/opt/anaconda3/envs/sa/lib/python3.8/site-packages (from tensorflow) (3.19.4)\n",
      "Requirement already satisfied: google-pasta>=0.1.1 in /Users/ranganaigwati/opt/anaconda3/envs/sa/lib/python3.8/site-packages (from tensorflow) (0.2.0)\n",
      "Requirement already satisfied: typing-extensions>=3.6.6 in /Users/ranganaigwati/opt/anaconda3/envs/sa/lib/python3.8/site-packages (from tensorflow) (4.3.0)\n",
      "Requirement already satisfied: grpcio<2.0,>=1.24.3 in /Users/ranganaigwati/opt/anaconda3/envs/sa/lib/python3.8/site-packages (from tensorflow) (1.47.0)\n",
      "Requirement already satisfied: packaging in /Users/ranganaigwati/opt/anaconda3/envs/sa/lib/python3.8/site-packages (from tensorflow) (21.3)\n",
      "Requirement already satisfied: astunparse>=1.6.0 in /Users/ranganaigwati/opt/anaconda3/envs/sa/lib/python3.8/site-packages (from tensorflow) (1.6.3)\n",
      "Requirement already satisfied: opt-einsum>=2.3.2 in /Users/ranganaigwati/opt/anaconda3/envs/sa/lib/python3.8/site-packages (from tensorflow) (3.3.0)\n",
      "Requirement already satisfied: numpy>=1.20 in /Users/ranganaigwati/opt/anaconda3/envs/sa/lib/python3.8/site-packages (from tensorflow) (1.23.2)\n",
      "Requirement already satisfied: wrapt>=1.11.0 in /Users/ranganaigwati/opt/anaconda3/envs/sa/lib/python3.8/site-packages (from tensorflow) (1.14.1)\n",
      "Requirement already satisfied: gast<=0.4.0,>=0.2.1 in /Users/ranganaigwati/opt/anaconda3/envs/sa/lib/python3.8/site-packages (from tensorflow) (0.4.0)\n",
      "Requirement already satisfied: libclang>=13.0.0 in /Users/ranganaigwati/opt/anaconda3/envs/sa/lib/python3.8/site-packages (from tensorflow) (14.0.6)\n",
      "Requirement already satisfied: setuptools in /Users/ranganaigwati/opt/anaconda3/envs/sa/lib/python3.8/site-packages (from tensorflow) (61.2.0)\n",
      "Requirement already satisfied: absl-py>=1.0.0 in /Users/ranganaigwati/opt/anaconda3/envs/sa/lib/python3.8/site-packages (from tensorflow) (1.2.0)\n",
      "Requirement already satisfied: tensorflow-estimator<2.10.0,>=2.9.0rc0 in /Users/ranganaigwati/opt/anaconda3/envs/sa/lib/python3.8/site-packages (from tensorflow) (2.9.0)\n",
      "Requirement already satisfied: keras-preprocessing>=1.1.1 in /Users/ranganaigwati/opt/anaconda3/envs/sa/lib/python3.8/site-packages (from tensorflow) (1.1.2)\n",
      "Requirement already satisfied: flatbuffers<2,>=1.12 in /Users/ranganaigwati/opt/anaconda3/envs/sa/lib/python3.8/site-packages (from tensorflow) (1.12)\n",
      "Requirement already satisfied: wheel<1.0,>=0.23.0 in /Users/ranganaigwati/opt/anaconda3/envs/sa/lib/python3.8/site-packages (from astunparse>=1.6.0->tensorflow) (0.37.1)\n",
      "Requirement already satisfied: requests<3,>=2.21.0 in /Users/ranganaigwati/opt/anaconda3/envs/sa/lib/python3.8/site-packages (from tensorboard<2.10,>=2.9->tensorflow) (2.28.1)\n",
      "Requirement already satisfied: google-auth-oauthlib<0.5,>=0.4.1 in /Users/ranganaigwati/opt/anaconda3/envs/sa/lib/python3.8/site-packages (from tensorboard<2.10,>=2.9->tensorflow) (0.4.6)\n",
      "Requirement already satisfied: markdown>=2.6.8 in /Users/ranganaigwati/opt/anaconda3/envs/sa/lib/python3.8/site-packages (from tensorboard<2.10,>=2.9->tensorflow) (3.4.1)\n",
      "Requirement already satisfied: tensorboard-data-server<0.7.0,>=0.6.0 in /Users/ranganaigwati/opt/anaconda3/envs/sa/lib/python3.8/site-packages (from tensorboard<2.10,>=2.9->tensorflow) (0.6.1)\n",
      "Requirement already satisfied: tensorboard-plugin-wit>=1.6.0 in /Users/ranganaigwati/opt/anaconda3/envs/sa/lib/python3.8/site-packages (from tensorboard<2.10,>=2.9->tensorflow) (1.8.1)\n",
      "Requirement already satisfied: google-auth<3,>=1.6.3 in /Users/ranganaigwati/opt/anaconda3/envs/sa/lib/python3.8/site-packages (from tensorboard<2.10,>=2.9->tensorflow) (2.11.0)\n",
      "Requirement already satisfied: werkzeug>=1.0.1 in /Users/ranganaigwati/opt/anaconda3/envs/sa/lib/python3.8/site-packages (from tensorboard<2.10,>=2.9->tensorflow) (2.2.2)\n",
      "Requirement already satisfied: pyparsing!=3.0.5,>=2.0.2 in /Users/ranganaigwati/opt/anaconda3/envs/sa/lib/python3.8/site-packages (from packaging->tensorflow) (3.0.4)\n",
      "Requirement already satisfied: rsa<5,>=3.1.4 in /Users/ranganaigwati/opt/anaconda3/envs/sa/lib/python3.8/site-packages (from google-auth<3,>=1.6.3->tensorboard<2.10,>=2.9->tensorflow) (4.9)\n",
      "Requirement already satisfied: pyasn1-modules>=0.2.1 in /Users/ranganaigwati/opt/anaconda3/envs/sa/lib/python3.8/site-packages (from google-auth<3,>=1.6.3->tensorboard<2.10,>=2.9->tensorflow) (0.2.8)\n",
      "Requirement already satisfied: cachetools<6.0,>=2.0.0 in /Users/ranganaigwati/opt/anaconda3/envs/sa/lib/python3.8/site-packages (from google-auth<3,>=1.6.3->tensorboard<2.10,>=2.9->tensorflow) (5.2.0)\n",
      "Requirement already satisfied: requests-oauthlib>=0.7.0 in /Users/ranganaigwati/opt/anaconda3/envs/sa/lib/python3.8/site-packages (from google-auth-oauthlib<0.5,>=0.4.1->tensorboard<2.10,>=2.9->tensorflow) (1.3.1)\n",
      "Requirement already satisfied: importlib-metadata>=4.4 in /Users/ranganaigwati/opt/anaconda3/envs/sa/lib/python3.8/site-packages (from markdown>=2.6.8->tensorboard<2.10,>=2.9->tensorflow) (4.12.0)\n",
      "Requirement already satisfied: certifi>=2017.4.17 in /Users/ranganaigwati/opt/anaconda3/envs/sa/lib/python3.8/site-packages (from requests<3,>=2.21.0->tensorboard<2.10,>=2.9->tensorflow) (2022.6.15)\n",
      "Requirement already satisfied: urllib3<1.27,>=1.21.1 in /Users/ranganaigwati/opt/anaconda3/envs/sa/lib/python3.8/site-packages (from requests<3,>=2.21.0->tensorboard<2.10,>=2.9->tensorflow) (1.26.11)\n",
      "Requirement already satisfied: charset-normalizer<3,>=2 in /Users/ranganaigwati/opt/anaconda3/envs/sa/lib/python3.8/site-packages (from requests<3,>=2.21.0->tensorboard<2.10,>=2.9->tensorflow) (2.0.4)\n",
      "Requirement already satisfied: idna<4,>=2.5 in /Users/ranganaigwati/opt/anaconda3/envs/sa/lib/python3.8/site-packages (from requests<3,>=2.21.0->tensorboard<2.10,>=2.9->tensorflow) (3.3)\n",
      "Requirement already satisfied: MarkupSafe>=2.1.1 in /Users/ranganaigwati/opt/anaconda3/envs/sa/lib/python3.8/site-packages (from werkzeug>=1.0.1->tensorboard<2.10,>=2.9->tensorflow) (2.1.1)\n",
      "Requirement already satisfied: zipp>=0.5 in /Users/ranganaigwati/opt/anaconda3/envs/sa/lib/python3.8/site-packages (from importlib-metadata>=4.4->markdown>=2.6.8->tensorboard<2.10,>=2.9->tensorflow) (3.8.0)\n",
      "Requirement already satisfied: pyasn1<0.5.0,>=0.4.6 in /Users/ranganaigwati/opt/anaconda3/envs/sa/lib/python3.8/site-packages (from pyasn1-modules>=0.2.1->google-auth<3,>=1.6.3->tensorboard<2.10,>=2.9->tensorflow) (0.4.8)\n",
      "Requirement already satisfied: oauthlib>=3.0.0 in /Users/ranganaigwati/opt/anaconda3/envs/sa/lib/python3.8/site-packages (from requests-oauthlib>=0.7.0->google-auth-oauthlib<0.5,>=0.4.1->tensorboard<2.10,>=2.9->tensorflow) (3.2.0)\n",
      "Requirement already satisfied: torch in /Users/ranganaigwati/opt/anaconda3/envs/sa/lib/python3.8/site-packages (1.12.1)\n",
      "Requirement already satisfied: typing-extensions in /Users/ranganaigwati/opt/anaconda3/envs/sa/lib/python3.8/site-packages (from torch) (4.3.0)\n",
      "Requirement already satisfied: emoji==0.6.0 in /Users/ranganaigwati/opt/anaconda3/envs/sa/lib/python3.8/site-packages (0.6.0)\n"
     ]
    }
   ],
   "source": [
    "#Install the relevant modules if they are not already there\n",
    "# !pip install transformers\n",
    "!pip install tensorflow\n",
    "\n",
    "#From the imports document\n",
    "!pip install transformers \n",
    "!pip install torch\n",
    "!pip install emoji==0.6.0\n",
    "\n",
    "from transformers import pipeline\n",
    "\n"
   ]
  },
  {
   "cell_type": "code",
   "execution_count": 34,
   "id": "f67dcb2b",
   "metadata": {
    "scrolled": true
   },
   "outputs": [],
   "source": [
    "import csv # Allows us to read and write csv files\n",
    "from pprint import pprint # Make our print functions easier to read\n",
    "\n",
    "from transformers import pipeline # Hugging face pipeline to load online models\n",
    "import torch"
   ]
  },
  {
   "cell_type": "markdown",
   "id": "62d4028f",
   "metadata": {},
   "source": [
    "🤗 Transformers provides thousands of pretrained models to perform tasks on different modalities such as text, vision, and audio.\n",
    "\n",
    "These models can be applied on:\n",
    "- 📝 Text, for tasks like text classification, information extraction, question answering, summarization, translation, text generation, in over 100 languages.\n",
    "\n",
    "- 🖼️ Images, for tasks like image classification, object detection, and segmentation.\n",
    "- 🗣️ Audio, for tasks like speech recognition and audio classification.\n",
    "\n",
    "This is the pipeline method in transformers that we'll be using to analyze our sentiment data. Since we're not specifying a pretrained model, the pipeline has a default sentiment analysis model called [distilbert-base-uncased-finetuned-sst-2-english](https://huggingface.co/distilbert-base-uncased-finetuned-sst-2-english)."
   ]
  },
  {
   "cell_type": "code",
   "execution_count": 36,
   "id": "9c3e6e41",
   "metadata": {},
   "outputs": [
    {
     "name": "stderr",
     "output_type": "stream",
     "text": [
      "No model was supplied, defaulted to distilbert-base-uncased-finetuned-sst-2-english and revision af0f99b (https://huggingface.co/distilbert-base-uncased-finetuned-sst-2-english).\n",
      "Using a pipeline without specifying a model name and revision in production is not recommended.\n"
     ]
    },
    {
     "ename": "RuntimeError",
     "evalue": "At least one of TensorFlow 2.0 or PyTorch should be installed. To install TensorFlow 2.0, read the instructions at https://www.tensorflow.org/install/ To install PyTorch, read the instructions at https://pytorch.org/.",
     "output_type": "error",
     "traceback": [
      "\u001b[0;31m---------------------------------------------------------------------------\u001b[0m",
      "\u001b[0;31mRuntimeError\u001b[0m                              Traceback (most recent call last)",
      "Input \u001b[0;32mIn [36]\u001b[0m, in \u001b[0;36m<cell line: 1>\u001b[0;34m()\u001b[0m\n\u001b[0;32m----> 1\u001b[0m sentiment_pipeline \u001b[38;5;241m=\u001b[39m \u001b[43mpipeline\u001b[49m\u001b[43m(\u001b[49m\u001b[38;5;124;43m\"\u001b[39;49m\u001b[38;5;124;43msentiment-analysis\u001b[39;49m\u001b[38;5;124;43m\"\u001b[39;49m\u001b[43m)\u001b[49m\n",
      "File \u001b[0;32m~/opt/anaconda3/envs/sa/lib/python3.8/site-packages/transformers/pipelines/__init__.py:650\u001b[0m, in \u001b[0;36mpipeline\u001b[0;34m(task, model, config, tokenizer, feature_extractor, framework, revision, use_fast, use_auth_token, device_map, torch_dtype, trust_remote_code, model_kwargs, pipeline_class, **kwargs)\u001b[0m\n\u001b[1;32m    646\u001b[0m \u001b[38;5;66;03m# Infer the framework from the model\u001b[39;00m\n\u001b[1;32m    647\u001b[0m \u001b[38;5;66;03m# Forced if framework already defined, inferred if it's None\u001b[39;00m\n\u001b[1;32m    648\u001b[0m \u001b[38;5;66;03m# Will load the correct model if possible\u001b[39;00m\n\u001b[1;32m    649\u001b[0m model_classes \u001b[38;5;241m=\u001b[39m {\u001b[38;5;124m\"\u001b[39m\u001b[38;5;124mtf\u001b[39m\u001b[38;5;124m\"\u001b[39m: targeted_task[\u001b[38;5;124m\"\u001b[39m\u001b[38;5;124mtf\u001b[39m\u001b[38;5;124m\"\u001b[39m], \u001b[38;5;124m\"\u001b[39m\u001b[38;5;124mpt\u001b[39m\u001b[38;5;124m\"\u001b[39m: targeted_task[\u001b[38;5;124m\"\u001b[39m\u001b[38;5;124mpt\u001b[39m\u001b[38;5;124m\"\u001b[39m]}\n\u001b[0;32m--> 650\u001b[0m framework, model \u001b[38;5;241m=\u001b[39m \u001b[43minfer_framework_load_model\u001b[49m\u001b[43m(\u001b[49m\n\u001b[1;32m    651\u001b[0m \u001b[43m    \u001b[49m\u001b[43mmodel\u001b[49m\u001b[43m,\u001b[49m\n\u001b[1;32m    652\u001b[0m \u001b[43m    \u001b[49m\u001b[43mmodel_classes\u001b[49m\u001b[38;5;241;43m=\u001b[39;49m\u001b[43mmodel_classes\u001b[49m\u001b[43m,\u001b[49m\n\u001b[1;32m    653\u001b[0m \u001b[43m    \u001b[49m\u001b[43mconfig\u001b[49m\u001b[38;5;241;43m=\u001b[39;49m\u001b[43mconfig\u001b[49m\u001b[43m,\u001b[49m\n\u001b[1;32m    654\u001b[0m \u001b[43m    \u001b[49m\u001b[43mframework\u001b[49m\u001b[38;5;241;43m=\u001b[39;49m\u001b[43mframework\u001b[49m\u001b[43m,\u001b[49m\n\u001b[1;32m    655\u001b[0m \u001b[43m    \u001b[49m\u001b[43mtask\u001b[49m\u001b[38;5;241;43m=\u001b[39;49m\u001b[43mtask\u001b[49m\u001b[43m,\u001b[49m\n\u001b[1;32m    656\u001b[0m \u001b[43m    \u001b[49m\u001b[38;5;241;43m*\u001b[39;49m\u001b[38;5;241;43m*\u001b[39;49m\u001b[43mhub_kwargs\u001b[49m\u001b[43m,\u001b[49m\n\u001b[1;32m    657\u001b[0m \u001b[43m    \u001b[49m\u001b[38;5;241;43m*\u001b[39;49m\u001b[38;5;241;43m*\u001b[39;49m\u001b[43mmodel_kwargs\u001b[49m\u001b[43m,\u001b[49m\n\u001b[1;32m    658\u001b[0m \u001b[43m\u001b[49m\u001b[43m)\u001b[49m\n\u001b[1;32m    660\u001b[0m model_config \u001b[38;5;241m=\u001b[39m model\u001b[38;5;241m.\u001b[39mconfig\n\u001b[1;32m    662\u001b[0m load_tokenizer \u001b[38;5;241m=\u001b[39m \u001b[38;5;28mtype\u001b[39m(model_config) \u001b[38;5;129;01min\u001b[39;00m TOKENIZER_MAPPING \u001b[38;5;129;01mor\u001b[39;00m model_config\u001b[38;5;241m.\u001b[39mtokenizer_class \u001b[38;5;129;01mis\u001b[39;00m \u001b[38;5;129;01mnot\u001b[39;00m \u001b[38;5;28;01mNone\u001b[39;00m\n",
      "File \u001b[0;32m~/opt/anaconda3/envs/sa/lib/python3.8/site-packages/transformers/pipelines/base.py:209\u001b[0m, in \u001b[0;36minfer_framework_load_model\u001b[0;34m(model, config, model_classes, task, framework, **model_kwargs)\u001b[0m\n\u001b[1;32m    183\u001b[0m \u001b[38;5;124;03m\"\"\"\u001b[39;00m\n\u001b[1;32m    184\u001b[0m \u001b[38;5;124;03mSelect framework (TensorFlow or PyTorch) to use from the `model` passed. Returns a tuple (framework, model).\u001b[39;00m\n\u001b[1;32m    185\u001b[0m \n\u001b[0;32m   (...)\u001b[0m\n\u001b[1;32m    206\u001b[0m \u001b[38;5;124;03m    `Tuple`: A tuple framework, model.\u001b[39;00m\n\u001b[1;32m    207\u001b[0m \u001b[38;5;124;03m\"\"\"\u001b[39;00m\n\u001b[1;32m    208\u001b[0m \u001b[38;5;28;01mif\u001b[39;00m \u001b[38;5;129;01mnot\u001b[39;00m is_tf_available() \u001b[38;5;129;01mand\u001b[39;00m \u001b[38;5;129;01mnot\u001b[39;00m is_torch_available():\n\u001b[0;32m--> 209\u001b[0m     \u001b[38;5;28;01mraise\u001b[39;00m \u001b[38;5;167;01mRuntimeError\u001b[39;00m(\n\u001b[1;32m    210\u001b[0m         \u001b[38;5;124m\"\u001b[39m\u001b[38;5;124mAt least one of TensorFlow 2.0 or PyTorch should be installed. \u001b[39m\u001b[38;5;124m\"\u001b[39m\n\u001b[1;32m    211\u001b[0m         \u001b[38;5;124m\"\u001b[39m\u001b[38;5;124mTo install TensorFlow 2.0, read the instructions at https://www.tensorflow.org/install/ \u001b[39m\u001b[38;5;124m\"\u001b[39m\n\u001b[1;32m    212\u001b[0m         \u001b[38;5;124m\"\u001b[39m\u001b[38;5;124mTo install PyTorch, read the instructions at https://pytorch.org/.\u001b[39m\u001b[38;5;124m\"\u001b[39m\n\u001b[1;32m    213\u001b[0m     )\n\u001b[1;32m    214\u001b[0m \u001b[38;5;28;01mif\u001b[39;00m \u001b[38;5;28misinstance\u001b[39m(model, \u001b[38;5;28mstr\u001b[39m):\n\u001b[1;32m    215\u001b[0m     model_kwargs[\u001b[38;5;124m\"\u001b[39m\u001b[38;5;124m_from_pipeline\u001b[39m\u001b[38;5;124m\"\u001b[39m] \u001b[38;5;241m=\u001b[39m task\n",
      "\u001b[0;31mRuntimeError\u001b[0m: At least one of TensorFlow 2.0 or PyTorch should be installed. To install TensorFlow 2.0, read the instructions at https://www.tensorflow.org/install/ To install PyTorch, read the instructions at https://pytorch.org/."
     ]
    }
   ],
   "source": [
    "sentiment_pipeline = pipeline(\"sentiment-analysis\")"
   ]
  },
  {
   "cell_type": "markdown",
   "id": "e30b34b2",
   "metadata": {},
   "source": [
    "In this example, we'll supply two polar sentiments and test out the model pipeline."
   ]
  },
  {
   "cell_type": "code",
   "execution_count": 37,
   "id": "de41c494",
   "metadata": {},
   "outputs": [
    {
     "ename": "NameError",
     "evalue": "name 'sentiment_pipeline' is not defined",
     "output_type": "error",
     "traceback": [
      "\u001b[0;31m---------------------------------------------------------------------------\u001b[0m",
      "\u001b[0;31mNameError\u001b[0m                                 Traceback (most recent call last)",
      "Input \u001b[0;32mIn [37]\u001b[0m, in \u001b[0;36m<cell line: 2>\u001b[0;34m()\u001b[0m\n\u001b[1;32m      1\u001b[0m data \u001b[38;5;241m=\u001b[39m [\u001b[38;5;124m\"\u001b[39m\u001b[38;5;124mThis is great!\u001b[39m\u001b[38;5;124m\"\u001b[39m, \u001b[38;5;124m\"\u001b[39m\u001b[38;5;124mOh no!\u001b[39m\u001b[38;5;124m\"\u001b[39m]\n\u001b[0;32m----> 2\u001b[0m \u001b[43msentiment_pipeline\u001b[49m(data)\n",
      "\u001b[0;31mNameError\u001b[0m: name 'sentiment_pipeline' is not defined"
     ]
    }
   ],
   "source": [
    "data = [\"This is great!\", \"Oh no!\"]\n",
    "sentiment_pipeline(data)"
   ]
  },
  {
   "cell_type": "markdown",
   "id": "39d04139",
   "metadata": {},
   "source": [
    "The `label` in this case indicates the prediction for the sentiment type.\n",
    "\n",
    "The `score` indicates the confidence of the prediction (between 0 and 1).\n",
    "\n",
    "Since our sentiments were very polar, it was easier for the model to predict the sentiment type.\n",
    "\n",
    "Let's see what happens when we use a less clear example:"
   ]
  },
  {
   "cell_type": "code",
   "execution_count": 38,
   "id": "c077f881",
   "metadata": {},
   "outputs": [
    {
     "ename": "NameError",
     "evalue": "name 'sentiment_pipeline' is not defined",
     "output_type": "error",
     "traceback": [
      "\u001b[0;31m---------------------------------------------------------------------------\u001b[0m",
      "\u001b[0;31mNameError\u001b[0m                                 Traceback (most recent call last)",
      "Input \u001b[0;32mIn [38]\u001b[0m, in \u001b[0;36m<cell line: 3>\u001b[0;34m()\u001b[0m\n\u001b[1;32m      1\u001b[0m challenging_sentiments \u001b[38;5;241m=\u001b[39m [\u001b[38;5;124m\"\u001b[39m\u001b[38;5;124mI don\u001b[39m\u001b[38;5;124m'\u001b[39m\u001b[38;5;124mt think freddriq should leave, he\u001b[39m\u001b[38;5;124m'\u001b[39m\u001b[38;5;124ms been helpful.\u001b[39m\u001b[38;5;124m\"\u001b[39m,\n\u001b[1;32m      2\u001b[0m                           \u001b[38;5;124m\"\u001b[39m\u001b[38;5;124mIs that the lake we went to last month?\u001b[39m\u001b[38;5;124m\"\u001b[39m]\n\u001b[0;32m----> 3\u001b[0m \u001b[43msentiment_pipeline\u001b[49m(challenging_sentiments)\n",
      "\u001b[0;31mNameError\u001b[0m: name 'sentiment_pipeline' is not defined"
     ]
    }
   ],
   "source": [
    "challenging_sentiments = [\"I don't think freddriq should leave, he's been helpful.\",\n",
    "                          \"Is that the lake we went to last month?\"]\n",
    "sentiment_pipeline(challenging_sentiments)"
   ]
  },
  {
   "cell_type": "markdown",
   "id": "c64b62d4",
   "metadata": {},
   "source": [
    "<hr>\n",
    "\n",
    "### Loading the Twitter Data\n",
    "\n",
    "Let's play with some twitter data. We'll be using a modified version of the [Elon Musk twitter dataset on Kaggle](https://www.kaggle.com/datasets/andradaolteanu/all-elon-musks-tweets)."
   ]
  },
  {
   "cell_type": "code",
   "execution_count": 39,
   "id": "4c1a44d0",
   "metadata": {},
   "outputs": [
    {
     "name": "stdout",
     "output_type": "stream",
     "text": [
      "['@vincent13031925 For now. Costs are decreasing rapidly.',\n",
      " 'Love this beautiful shot',\n",
      " '@agnostoxxx @CathieDWood @ARKInvest Trust the shrub',\n",
      " 'The art In Cyberpunk is incredible',\n",
      " '@itsALLrisky 🤣🤣',\n",
      " '@seinfeldguru @WholeMarsBlog Nope haha',\n",
      " '@WholeMarsBlog If you don’t say anything &amp; engage Autopilot, it will '\n",
      " 'soon guess based on time of day, taking you home or to work or to what’s on '\n",
      " 'your calendar',\n",
      " '@DeltavPhotos @PortCanaveral That rocket is a hardcore veteran of many '\n",
      " 'missions',\n",
      " 'Blimps rock  https://t.co/e8cu5FkNOI',\n",
      " '@engineers_feed Due to lower gravity, you can travel from surface of Mars to '\n",
      " 'surface of Earth fairly easily with a single stage rocket. Earth to Mars is '\n",
      " 'vastly harder.',\n",
      " '@DrPhiltill Good thread',\n",
      " '@alexellisuk Pretty much',\n",
      " '@tesla_adri @WholeMarsBlog These things are best thought of as '\n",
      " 'probabilities. There are 5 forward-facing cameras. It is highly likely that '\n",
      " 'at least one of them will see multiple cars ahead.',\n",
      " '@WholeMarsBlog Sensors are a bitstream and cameras have several orders of '\n",
      " 'magnitude more bits/sec than radar (or lidar).   Radar must meaningfully '\n",
      " 'increase signal/noise of bitstream to be worth complexity of integrating '\n",
      " 'it.   As vision processing gets better, it just leaves radar far behind.',\n",
      " '@WholeMarsBlog When radar and vision disagree, which one do you believe? '\n",
      " 'Vision has much more precision, so better to double down on vision than do '\n",
      " 'sensor fusion.',\n",
      " '@WholeMarsBlog This is a major problem!',\n",
      " 'Just needs some legs',\n",
      " 'The Starship launch tower that catches the giant rocket booster is basically '\n",
      " 'Mechazilla',\n",
      " 'But wait how is the core of the earth lit by the sun? Stop asking '\n",
      " 'questions!!',\n",
      " 'Kong vs Godzilla has record for most meth ever consumed in a writer’s room',\n",
      " '@itsALLrisky 💯',\n",
      " '… going to moon very soon',\n",
      " '@Matsu_Kusarine @jagarikin Actually happened to me in Cyberpunk haha',\n",
      " '@TimBirks1 @Erdayastronaut @SpaceX Pretty much',\n",
      " '@memescryptor !',\n",
      " 'Where is Shrek 5!?  https://t.co/PqAZ5Mg8Es',\n",
      " '@AustinTeslaClub @OwenSparks_ @WholeMarsBlog Good point.   Next major '\n",
      " 'software rev will do much better with automating wipers, seat heating &amp; '\n",
      " 'defrost.   Probable seat settings just based on occupant mass distribution '\n",
      " 'should be possible.',\n",
      " '@Adamklotz_ @OwenSparks_ @WholeMarsBlog Yup',\n",
      " '@teslaownersSV @neuralink Turns out 🐒 love video games &amp; snacks just '\n",
      " 'like us!',\n",
      " 'It’s all about the cufflinks  https://t.co/elccqC0Zuf',\n",
      " '@chicago_glenn I feel like this sometimes',\n",
      " '@OwenSparks_ @WholeMarsBlog It will',\n",
      " '@OwenSparks_ @WholeMarsBlog Remove',\n",
      " '@w00ki33 @SpaceX @SuperclusterHQ Simulation is improving rendering '\n",
      " 'resolution  …',\n",
      " '@cleantechnica Congrats to NIO. That is a tough milestone.',\n",
      " '@WholeMarsBlog Almost ready with FSD Beta V9.0. Step change improvement is '\n",
      " 'massive, especially for weird corner cases &amp; bad weather. Pure vision, '\n",
      " 'no radar.',\n",
      " 'Thanks to all that helped SpaceX!',\n",
      " 'Just read it. Book is accurate.',\n",
      " '@TeslaGong Yeah',\n",
      " '@mikevanbus @TrungTPhan @neuralink Pretty much',\n",
      " ' https://t.co/XeQursZpvq',\n",
      " 'Soon our monkey will be on twitch &amp; discord haha',\n",
      " '@thenewsoncnbc @contessabrewer Good piece!',\n",
      " '@Kyler_Knoll @neuralink Comes with wireless charging baseball cap',\n",
      " '@TarekWaked @TechCrunch @etherington Pretty much 🤣🤣 Great episode!',\n",
      " 'A monkey is literally playing a video game telepathically using a brain '\n",
      " 'chip!!',\n",
      " '@lexfridman @neuralink Yes',\n",
      " 'The device is implanted flush with skull &amp; charges wirelessly, so you '\n",
      " 'look &amp; feel totally normal',\n",
      " '@IheartTesla Absolutely doable. Possibly as soon as Neuralink device version '\n",
      " '2, highly likely by version 3.',\n",
      " 'Later versions will be able to shunt signals from Neuralinks in brain to '\n",
      " 'Neuralinks in body motor/sensory neuron clusters, thus enabling, for '\n",
      " 'example, paraplegics to walk again',\n",
      " '@mindofkacper @neuralink Yes',\n",
      " 'First @Neuralink product will enable someone with paralysis to use a '\n",
      " 'smartphone with their mind faster than someone using thumbs',\n",
      " '@IheartTesla @neuralink Hopefully, later this year',\n",
      " '@tobyliiiiiiiiii Sure',\n",
      " 'Monkey plays Pong with his mind',\n",
      " '@dogeofficialceo @WatchersTank @SpaceX Looking at pups soon!',\n",
      " '@jordanxmajel @WatchersTank @SpaceX Shock absorption is built into tower '\n",
      " 'arms. Since tower is ground side, it can use a lot more mass to arrest '\n",
      " 'booster downward momentum.',\n",
      " '@jordanxmajel @WatchersTank @SpaceX Load points just below the grid fins',\n",
      " '@WatchersTank @SpaceX Just one skyscraper catching another nbd haha',\n",
      " 'Thanks Tesla suppliers for providing us with critical parts!',\n",
      " '@MarkJam93765764 @IvanEscobosa A tidal wave of vaccine is being produced!',\n",
      " '@jgrano305 Probably J&amp;J, but BioNtech &amp; Moderna are good too. Some '\n",
      " 'debate imo as to whether a second synthetic mRNA shot is really needed, but '\n",
      " 'the first is a no-brainer.',\n",
      " '@IvanEscobosa Latter',\n",
      " 'To be clear, I do support vaccines in general &amp; covid vaccines '\n",
      " 'specifically. The science is unequivocal.   In very rare cases, there is an '\n",
      " 'allergic reaction, but this is easily addressed with an EpiPen.',\n",
      " '@DavidWillisSLS @_Jevis_ @PPathole Needs legs for moon &amp; Mars',\n",
      " '@SciGuySpace Global payload to orbit is the key metric',\n",
      " '@Julius_Burton @Erdayastronaut @DJSnM @NASASpaceflight @ChrisG_NSF '\n",
      " '@thejackbeyer @FelixSchlang Nice',\n",
      " '@_Jevis_ @PPathole Ideal scenario imo is catching Starship in horizontal '\n",
      " '“glide” with no landing burn, although that is quite a challenge for the '\n",
      " 'tower! Next best is catching with tower, with emergency pad landing mode on '\n",
      " 'skirt (no legs).',\n",
      " '@PPathole Starship booster, largest flying object ever designed, will be '\n",
      " 'caught out of sky by launch tower. Big step forward, as reflight can be done '\n",
      " 'in under an hour.',\n",
      " '@WholeMarsBlog Well-written and fair, much like his articles on space',\n",
      " '@louisssdev @flcnhvy Coming soon. Crazy number of launches this year!',\n",
      " '@flcnhvy They will be recovered from the water &amp; reused',\n",
      " '“Tanks for the memery!” – Panzer of the Lake',\n",
      " '@CathieDWood @wintonARK @ARKInvest What do you think of the unusually high '\n",
      " 'ratio of S&amp;P market cap to GDP?',\n",
      " '@ID_AA_Carmack Some kind of ELO level, updated once or twice a year based on '\n",
      " 'what someone actually got done, might be most effective. Important that it '\n",
      " 'go both up *and* down.',\n",
      " '@Thomas38697956 New &amp; improved version!',\n",
      " '@Teslarati @ResidentSponge Special mention of Tesla China',\n",
      " '@shbzz Obv',\n",
      " '@Teslarati @ResidentSponge Great work by Tesla team!',\n",
      " '@EvaFoxU Nice',\n",
      " 'The Earth is not flat, it’s a hollow globe &amp; Donkey King lives there!',\n",
      " '@EvaFoxU Those two really could have come in handy for the stuck ship!',\n",
      " '@EvaFoxU Last Kingdom vs Vikings',\n",
      " '@spacex360 Ascent phase, transition to horizontal &amp; control during free '\n",
      " 'fall were good.   A (relatively) small CH4 leak led to fire on engine 2 '\n",
      " '&amp; fried part of avionics, causing hard start attempting landing burn in '\n",
      " 'CH4 turbopump.   This is getting fixed 6 ways to Sunday.',\n",
      " 'Godzilla vs Kong is so amaze much wow! Most insane movie I’ve ever seen! '\n",
      " 'Love letter to conspiracy theorists! And yet heartwarming in the end.',\n",
      " '@TerminalCount The Starships feast in Valhalla!',\n",
      " '@TerminalCount One of the greatest things I’ve ever seen',\n",
      " '@floko12022021 @HamblinZeke @katlinegrey Ich habe ein Semester Deutsch an '\n",
      " 'der Universität studiert usw',\n",
      " '@HamblinZeke @katlinegrey Haha Falcon? Nein!',\n",
      " '@tobyliiiiiiiiii @katlinegrey I recommend propulsive landing, as that is '\n",
      " 'extensible to planets, moons &amp; asteroids. Wings &amp; runways are '\n",
      " 'limited to Earth.',\n",
      " '@PPathole @katlinegrey For practical purposes, there is no limit. It will '\n",
      " 'just get increasingly difficult to service.',\n",
      " '@katlinegrey This a good path, but I recommend aiming for full reusability',\n",
      " 'Urgent need to build more housing in greater Austin area!',\n",
      " 'Austin++',\n",
      " 'No it doesn’t hurt at all 🩸  https://t.co/NnL6o1si0V',\n",
      " '@allrocketsboi True',\n",
      " '@GerberKawasaki I fried a lot of neurons on that problem!',\n",
      " 'Me in my sick new car (left him the money)  https://t.co/EGaY1FVfHm',\n",
      " '@TrungTPhan Had no money to invest in Zip2, but my founder equity yielded '\n",
      " '~$15M after tax. Of that, I rolled ~$10M into PayPal, which yielded ~$180M, '\n",
      " 'then …   Basic principle is that I would not ask investors to risk money on '\n",
      " 'my company if I would not also do so.',\n",
      " '@Gfilche Major new Supercharger station coming to Santa Monica soon! Hoping '\n",
      " 'to have 50’s diner &amp; 100 best movie clips playing too. Thanks Santa '\n",
      " 'Monica city!']\n"
     ]
    }
   ],
   "source": [
    "with open('../data/elonmusk_tweets.csv', newline='', encoding='utf8') as f:\n",
    "    tweets=[]\n",
    "    reader = csv.reader(f)\n",
    "    twitter_data = list(reader)\n",
    "    for tweet in twitter_data:\n",
    "        tweets.append(tweet[0])\n",
    "\n",
    "pprint(tweets[:100])"
   ]
  },
  {
   "cell_type": "markdown",
   "id": "e630a8f1",
   "metadata": {},
   "source": [
    "First things first - let's look at the sentiment as determined by the [distilbert-base-uncased-finetuned-sst-2-english](https://huggingface.co/distilbert-base-uncased-finetuned-sst-2-english) (default model) in the pipeline."
   ]
  },
  {
   "cell_type": "code",
   "execution_count": 40,
   "id": "42b10279",
   "metadata": {},
   "outputs": [
    {
     "ename": "NameError",
     "evalue": "name 'sentiment_pipeline' is not defined",
     "output_type": "error",
     "traceback": [
      "\u001b[0;31m---------------------------------------------------------------------------\u001b[0m",
      "\u001b[0;31mNameError\u001b[0m                                 Traceback (most recent call last)",
      "Input \u001b[0;32mIn [40]\u001b[0m, in \u001b[0;36m<cell line: 1>\u001b[0;34m()\u001b[0m\n\u001b[0;32m----> 1\u001b[0m distil_sentiment \u001b[38;5;241m=\u001b[39m \u001b[43msentiment_pipeline\u001b[49m(tweets[\u001b[38;5;241m0\u001b[39m:\u001b[38;5;241m100\u001b[39m])\n",
      "\u001b[0;31mNameError\u001b[0m: name 'sentiment_pipeline' is not defined"
     ]
    }
   ],
   "source": [
    "distil_sentiment = sentiment_pipeline(tweets[0:100])"
   ]
  },
  {
   "cell_type": "markdown",
   "id": "8ce3fefd",
   "metadata": {},
   "source": [
    "Let's check out the distribution of positive/negative Tweets and see the breakdown using Python's 🐍 standard library `collections.Counter`!"
   ]
  },
  {
   "cell_type": "code",
   "execution_count": 41,
   "id": "971a841d",
   "metadata": {},
   "outputs": [
    {
     "ename": "NameError",
     "evalue": "name 'distil_sentiment' is not defined",
     "output_type": "error",
     "traceback": [
      "\u001b[0;31m---------------------------------------------------------------------------\u001b[0m",
      "\u001b[0;31mNameError\u001b[0m                                 Traceback (most recent call last)",
      "Input \u001b[0;32mIn [41]\u001b[0m, in \u001b[0;36m<cell line: 3>\u001b[0;34m()\u001b[0m\n\u001b[1;32m      1\u001b[0m \u001b[38;5;28;01mfrom\u001b[39;00m \u001b[38;5;21;01mcollections\u001b[39;00m \u001b[38;5;28;01mimport\u001b[39;00m Counter\n\u001b[0;32m----> 3\u001b[0m tweet_distro \u001b[38;5;241m=\u001b[39m Counter([x[\u001b[38;5;124m'\u001b[39m\u001b[38;5;124mlabel\u001b[39m\u001b[38;5;124m'\u001b[39m] \u001b[38;5;28;01mfor\u001b[39;00m x \u001b[38;5;129;01min\u001b[39;00m \u001b[43mdistil_sentiment\u001b[49m])\n\u001b[1;32m      4\u001b[0m pos_sent_count \u001b[38;5;241m=\u001b[39m tweet_distro[\u001b[38;5;124m'\u001b[39m\u001b[38;5;124mPOSITIVE\u001b[39m\u001b[38;5;124m'\u001b[39m]\n\u001b[1;32m      5\u001b[0m neg_sent_count \u001b[38;5;241m=\u001b[39m tweet_distro[\u001b[38;5;124m'\u001b[39m\u001b[38;5;124mNEGATIVE\u001b[39m\u001b[38;5;124m'\u001b[39m]\n",
      "\u001b[0;31mNameError\u001b[0m: name 'distil_sentiment' is not defined"
     ]
    }
   ],
   "source": [
    "from collections import Counter\n",
    "\n",
    "tweet_distro = Counter([x['label'] for x in distil_sentiment])\n",
    "pos_sent_count = tweet_distro['POSITIVE']\n",
    "neg_sent_count = tweet_distro['NEGATIVE']\n",
    "total_sent_count = sum(tweet_distro.values())\n",
    "\n",
    "print(f\"{pos_sent_count} ({pos_sent_count / total_sent_count * 100:.2f}%) of the tweets classified are positive.\")\n",
    "print(f\"{neg_sent_count} ({neg_sent_count / total_sent_count * 100:.2f}%) of the tweets classified are negative.\")"
   ]
  },
  {
   "cell_type": "markdown",
   "id": "42155a0c",
   "metadata": {},
   "source": [
    "Let's do that process again, but use a model with an additional potential label \"NEUTRAL\" called [bertweet-sentiment-analysis](https://huggingface.co/finiteautomata/bertweet-base-sentiment-analysis)\n",
    "\n",
    "To start - we'll build a pipeline with the new model by using the 🤗 Hugging Face address: `finiteautomata/bertweet-base-sentiment-analysis`"
   ]
  },
  {
   "cell_type": "code",
   "execution_count": 42,
   "id": "3fd6e37f",
   "metadata": {},
   "outputs": [
    {
     "data": {
      "application/vnd.jupyter.widget-view+json": {
       "model_id": "97b9646b452f4c3ab8dd5e6d0c06ad1c",
       "version_major": 2,
       "version_minor": 0
      },
      "text/plain": [
       "Downloading:   0%|          | 0.00/1.13k [00:00<?, ?B/s]"
      ]
     },
     "metadata": {},
     "output_type": "display_data"
    },
    {
     "ename": "RuntimeError",
     "evalue": "At least one of TensorFlow 2.0 or PyTorch should be installed. To install TensorFlow 2.0, read the instructions at https://www.tensorflow.org/install/ To install PyTorch, read the instructions at https://pytorch.org/.",
     "output_type": "error",
     "traceback": [
      "\u001b[0;31m---------------------------------------------------------------------------\u001b[0m",
      "\u001b[0;31mRuntimeError\u001b[0m                              Traceback (most recent call last)",
      "Input \u001b[0;32mIn [42]\u001b[0m, in \u001b[0;36m<cell line: 1>\u001b[0;34m()\u001b[0m\n\u001b[0;32m----> 1\u001b[0m bertweet_pipeline \u001b[38;5;241m=\u001b[39m \u001b[43mpipeline\u001b[49m\u001b[43m(\u001b[49m\u001b[43mmodel\u001b[49m\u001b[38;5;241;43m=\u001b[39;49m\u001b[38;5;124;43m\"\u001b[39;49m\u001b[38;5;124;43mfiniteautomata/bertweet-base-sentiment-analysis\u001b[39;49m\u001b[38;5;124;43m\"\u001b[39;49m\u001b[43m)\u001b[49m\n",
      "File \u001b[0;32m~/opt/anaconda3/envs/sa/lib/python3.8/site-packages/transformers/pipelines/__init__.py:650\u001b[0m, in \u001b[0;36mpipeline\u001b[0;34m(task, model, config, tokenizer, feature_extractor, framework, revision, use_fast, use_auth_token, device_map, torch_dtype, trust_remote_code, model_kwargs, pipeline_class, **kwargs)\u001b[0m\n\u001b[1;32m    646\u001b[0m \u001b[38;5;66;03m# Infer the framework from the model\u001b[39;00m\n\u001b[1;32m    647\u001b[0m \u001b[38;5;66;03m# Forced if framework already defined, inferred if it's None\u001b[39;00m\n\u001b[1;32m    648\u001b[0m \u001b[38;5;66;03m# Will load the correct model if possible\u001b[39;00m\n\u001b[1;32m    649\u001b[0m model_classes \u001b[38;5;241m=\u001b[39m {\u001b[38;5;124m\"\u001b[39m\u001b[38;5;124mtf\u001b[39m\u001b[38;5;124m\"\u001b[39m: targeted_task[\u001b[38;5;124m\"\u001b[39m\u001b[38;5;124mtf\u001b[39m\u001b[38;5;124m\"\u001b[39m], \u001b[38;5;124m\"\u001b[39m\u001b[38;5;124mpt\u001b[39m\u001b[38;5;124m\"\u001b[39m: targeted_task[\u001b[38;5;124m\"\u001b[39m\u001b[38;5;124mpt\u001b[39m\u001b[38;5;124m\"\u001b[39m]}\n\u001b[0;32m--> 650\u001b[0m framework, model \u001b[38;5;241m=\u001b[39m \u001b[43minfer_framework_load_model\u001b[49m\u001b[43m(\u001b[49m\n\u001b[1;32m    651\u001b[0m \u001b[43m    \u001b[49m\u001b[43mmodel\u001b[49m\u001b[43m,\u001b[49m\n\u001b[1;32m    652\u001b[0m \u001b[43m    \u001b[49m\u001b[43mmodel_classes\u001b[49m\u001b[38;5;241;43m=\u001b[39;49m\u001b[43mmodel_classes\u001b[49m\u001b[43m,\u001b[49m\n\u001b[1;32m    653\u001b[0m \u001b[43m    \u001b[49m\u001b[43mconfig\u001b[49m\u001b[38;5;241;43m=\u001b[39;49m\u001b[43mconfig\u001b[49m\u001b[43m,\u001b[49m\n\u001b[1;32m    654\u001b[0m \u001b[43m    \u001b[49m\u001b[43mframework\u001b[49m\u001b[38;5;241;43m=\u001b[39;49m\u001b[43mframework\u001b[49m\u001b[43m,\u001b[49m\n\u001b[1;32m    655\u001b[0m \u001b[43m    \u001b[49m\u001b[43mtask\u001b[49m\u001b[38;5;241;43m=\u001b[39;49m\u001b[43mtask\u001b[49m\u001b[43m,\u001b[49m\n\u001b[1;32m    656\u001b[0m \u001b[43m    \u001b[49m\u001b[38;5;241;43m*\u001b[39;49m\u001b[38;5;241;43m*\u001b[39;49m\u001b[43mhub_kwargs\u001b[49m\u001b[43m,\u001b[49m\n\u001b[1;32m    657\u001b[0m \u001b[43m    \u001b[49m\u001b[38;5;241;43m*\u001b[39;49m\u001b[38;5;241;43m*\u001b[39;49m\u001b[43mmodel_kwargs\u001b[49m\u001b[43m,\u001b[49m\n\u001b[1;32m    658\u001b[0m \u001b[43m\u001b[49m\u001b[43m)\u001b[49m\n\u001b[1;32m    660\u001b[0m model_config \u001b[38;5;241m=\u001b[39m model\u001b[38;5;241m.\u001b[39mconfig\n\u001b[1;32m    662\u001b[0m load_tokenizer \u001b[38;5;241m=\u001b[39m \u001b[38;5;28mtype\u001b[39m(model_config) \u001b[38;5;129;01min\u001b[39;00m TOKENIZER_MAPPING \u001b[38;5;129;01mor\u001b[39;00m model_config\u001b[38;5;241m.\u001b[39mtokenizer_class \u001b[38;5;129;01mis\u001b[39;00m \u001b[38;5;129;01mnot\u001b[39;00m \u001b[38;5;28;01mNone\u001b[39;00m\n",
      "File \u001b[0;32m~/opt/anaconda3/envs/sa/lib/python3.8/site-packages/transformers/pipelines/base.py:209\u001b[0m, in \u001b[0;36minfer_framework_load_model\u001b[0;34m(model, config, model_classes, task, framework, **model_kwargs)\u001b[0m\n\u001b[1;32m    183\u001b[0m \u001b[38;5;124;03m\"\"\"\u001b[39;00m\n\u001b[1;32m    184\u001b[0m \u001b[38;5;124;03mSelect framework (TensorFlow or PyTorch) to use from the `model` passed. Returns a tuple (framework, model).\u001b[39;00m\n\u001b[1;32m    185\u001b[0m \n\u001b[0;32m   (...)\u001b[0m\n\u001b[1;32m    206\u001b[0m \u001b[38;5;124;03m    `Tuple`: A tuple framework, model.\u001b[39;00m\n\u001b[1;32m    207\u001b[0m \u001b[38;5;124;03m\"\"\"\u001b[39;00m\n\u001b[1;32m    208\u001b[0m \u001b[38;5;28;01mif\u001b[39;00m \u001b[38;5;129;01mnot\u001b[39;00m is_tf_available() \u001b[38;5;129;01mand\u001b[39;00m \u001b[38;5;129;01mnot\u001b[39;00m is_torch_available():\n\u001b[0;32m--> 209\u001b[0m     \u001b[38;5;28;01mraise\u001b[39;00m \u001b[38;5;167;01mRuntimeError\u001b[39;00m(\n\u001b[1;32m    210\u001b[0m         \u001b[38;5;124m\"\u001b[39m\u001b[38;5;124mAt least one of TensorFlow 2.0 or PyTorch should be installed. \u001b[39m\u001b[38;5;124m\"\u001b[39m\n\u001b[1;32m    211\u001b[0m         \u001b[38;5;124m\"\u001b[39m\u001b[38;5;124mTo install TensorFlow 2.0, read the instructions at https://www.tensorflow.org/install/ \u001b[39m\u001b[38;5;124m\"\u001b[39m\n\u001b[1;32m    212\u001b[0m         \u001b[38;5;124m\"\u001b[39m\u001b[38;5;124mTo install PyTorch, read the instructions at https://pytorch.org/.\u001b[39m\u001b[38;5;124m\"\u001b[39m\n\u001b[1;32m    213\u001b[0m     )\n\u001b[1;32m    214\u001b[0m \u001b[38;5;28;01mif\u001b[39;00m \u001b[38;5;28misinstance\u001b[39m(model, \u001b[38;5;28mstr\u001b[39m):\n\u001b[1;32m    215\u001b[0m     model_kwargs[\u001b[38;5;124m\"\u001b[39m\u001b[38;5;124m_from_pipeline\u001b[39m\u001b[38;5;124m\"\u001b[39m] \u001b[38;5;241m=\u001b[39m task\n",
      "\u001b[0;31mRuntimeError\u001b[0m: At least one of TensorFlow 2.0 or PyTorch should be installed. To install TensorFlow 2.0, read the instructions at https://www.tensorflow.org/install/ To install PyTorch, read the instructions at https://pytorch.org/."
     ]
    }
   ],
   "source": [
    "bertweet_pipeline = pipeline(model=\"finiteautomata/bertweet-base-sentiment-analysis\")"
   ]
  },
  {
   "cell_type": "markdown",
   "id": "7025127d",
   "metadata": {},
   "source": [
    "Next, and the same as before, let's run the analysis on 100 of Elon's tweets."
   ]
  },
  {
   "cell_type": "code",
   "execution_count": 43,
   "id": "5daa650d",
   "metadata": {},
   "outputs": [
    {
     "ename": "NameError",
     "evalue": "name 'bertweet_pipeline' is not defined",
     "output_type": "error",
     "traceback": [
      "\u001b[0;31m---------------------------------------------------------------------------\u001b[0m",
      "\u001b[0;31mNameError\u001b[0m                                 Traceback (most recent call last)",
      "Input \u001b[0;32mIn [43]\u001b[0m, in \u001b[0;36m<cell line: 1>\u001b[0;34m()\u001b[0m\n\u001b[0;32m----> 1\u001b[0m bert_sentiment \u001b[38;5;241m=\u001b[39m \u001b[43mbertweet_pipeline\u001b[49m(tweets[\u001b[38;5;241m0\u001b[39m:\u001b[38;5;241m100\u001b[39m])\n",
      "\u001b[0;31mNameError\u001b[0m: name 'bertweet_pipeline' is not defined"
     ]
    }
   ],
   "source": [
    "bert_sentiment = bertweet_pipeline(tweets[0:100])"
   ]
  },
  {
   "cell_type": "markdown",
   "id": "6d8a316d",
   "metadata": {},
   "source": [
    "And then, let's check out the breakdown of positive, negative, AND neutral sentiments!"
   ]
  },
  {
   "cell_type": "code",
   "execution_count": 44,
   "id": "6996cc58",
   "metadata": {},
   "outputs": [
    {
     "ename": "NameError",
     "evalue": "name 'bert_sentiment' is not defined",
     "output_type": "error",
     "traceback": [
      "\u001b[0;31m---------------------------------------------------------------------------\u001b[0m",
      "\u001b[0;31mNameError\u001b[0m                                 Traceback (most recent call last)",
      "Input \u001b[0;32mIn [44]\u001b[0m, in \u001b[0;36m<cell line: 3>\u001b[0;34m()\u001b[0m\n\u001b[1;32m      1\u001b[0m \u001b[38;5;28;01mfrom\u001b[39;00m \u001b[38;5;21;01mcollections\u001b[39;00m \u001b[38;5;28;01mimport\u001b[39;00m Counter\n\u001b[0;32m----> 3\u001b[0m tweet_distro \u001b[38;5;241m=\u001b[39m Counter([x[\u001b[38;5;124m'\u001b[39m\u001b[38;5;124mlabel\u001b[39m\u001b[38;5;124m'\u001b[39m] \u001b[38;5;28;01mfor\u001b[39;00m x \u001b[38;5;129;01min\u001b[39;00m \u001b[43mbert_sentiment\u001b[49m])\n\u001b[1;32m      4\u001b[0m pos_sent_count \u001b[38;5;241m=\u001b[39m tweet_distro[\u001b[38;5;124m'\u001b[39m\u001b[38;5;124mPOS\u001b[39m\u001b[38;5;124m'\u001b[39m]\n\u001b[1;32m      5\u001b[0m neu_sent_count \u001b[38;5;241m=\u001b[39m tweet_distro[\u001b[38;5;124m'\u001b[39m\u001b[38;5;124mNEU\u001b[39m\u001b[38;5;124m'\u001b[39m]\n",
      "\u001b[0;31mNameError\u001b[0m: name 'bert_sentiment' is not defined"
     ]
    }
   ],
   "source": [
    "from collections import Counter\n",
    "\n",
    "tweet_distro = Counter([x['label'] for x in bert_sentiment])\n",
    "pos_sent_count = tweet_distro['POS']\n",
    "neu_sent_count = tweet_distro['NEU']\n",
    "neg_sent_count = tweet_distro['NEG']\n",
    "total_sent_count = sum(tweet_distro.values())\n",
    "\n",
    "print(f\"{pos_sent_count} ({pos_sent_count / total_sent_count * 100:.2f}%) of the tweets classified are positive.\")\n",
    "print(f\"{neu_sent_count} ({neu_sent_count / total_sent_count * 100:.2f}%) of the tweets classified are neutral.\")\n",
    "print(f\"{neg_sent_count} ({neg_sent_count / total_sent_count * 100:.2f}%) of the tweets classified are negative.\")"
   ]
  },
  {
   "cell_type": "markdown",
   "id": "8185798d",
   "metadata": {},
   "source": [
    "❓ What do you notice about the difference in the results? \n",
    "\n",
    "❓ Do the results for the `bertweet-base` model look better, or worse, than the results for the `distilbert-base` model? Why?"
   ]
  },
  {
   "cell_type": "markdown",
   "id": "6684f9ae",
   "metadata": {},
   "source": [
    "<hr>\n",
    "\n",
    "### Partner Exercise\n",
    "\n",
    "With your partner, try and determine what the following tweets might be classified as. Try to classify them into the same groups as both of the model pipelines we saw today - and try adding a few of your own sentences/Tweets! "
   ]
  },
  {
   "cell_type": "code",
   "execution_count": 45,
   "id": "dcc55db9",
   "metadata": {},
   "outputs": [],
   "source": [
    "example_difficult_tweets = [\n",
    "    \"Kong vs Godzilla has record for most meth ever consumed in a writer's room\",\n",
    "    \"@ashleevance Battery energy density is the key to electric aircraft. Autonomy for aircraft could have been done a long time ago. Modern airliners are very close to autonomous.\",\n",
    "    \"Tesla's action is not directly reflective of my opinion. Having some Bitcoin, which is simply a less dumb form of liquidity than cash, is adventurous enough for an S&P500 company.\",\n",
    "    \"<ADD YOUR OWN OPTION HERE>\",\n",
    "    \"<ADD YOUR OWN OPTION HERE>\",\n",
    "]"
   ]
  },
  {
   "cell_type": "markdown",
   "id": "324e3837",
   "metadata": {},
   "source": [
    "The `distilbert-base` model:"
   ]
  },
  {
   "cell_type": "code",
   "execution_count": 46,
   "id": "3fd3d5a9",
   "metadata": {},
   "outputs": [
    {
     "ename": "NameError",
     "evalue": "name 'sentiment_pipeline' is not defined",
     "output_type": "error",
     "traceback": [
      "\u001b[0;31m---------------------------------------------------------------------------\u001b[0m",
      "\u001b[0;31mNameError\u001b[0m                                 Traceback (most recent call last)",
      "Input \u001b[0;32mIn [46]\u001b[0m, in \u001b[0;36m<cell line: 1>\u001b[0;34m()\u001b[0m\n\u001b[1;32m      1\u001b[0m \u001b[38;5;28;01mfor\u001b[39;00m tweet \u001b[38;5;129;01min\u001b[39;00m example_difficult_tweets[\u001b[38;5;241m0\u001b[39m:\u001b[38;5;241m1000\u001b[39m]:\n\u001b[0;32m----> 2\u001b[0m     pprint(\u001b[43msentiment_pipeline\u001b[49m(tweet))\n\u001b[1;32m      3\u001b[0m     \u001b[38;5;28mprint\u001b[39m(tweet \u001b[38;5;241m+\u001b[39m \u001b[38;5;124m'\u001b[39m\u001b[38;5;130;01m\\n\u001b[39;00m\u001b[38;5;124m'\u001b[39m)\n",
      "\u001b[0;31mNameError\u001b[0m: name 'sentiment_pipeline' is not defined"
     ]
    }
   ],
   "source": [
    "for tweet in example_difficult_tweets[0:1000]:\n",
    "    pprint(sentiment_pipeline(tweet))\n",
    "    print(tweet + '\\n')"
   ]
  },
  {
   "cell_type": "markdown",
   "id": "61230295",
   "metadata": {},
   "source": [
    "The `bertweet-base` model:"
   ]
  },
  {
   "cell_type": "code",
   "execution_count": 47,
   "id": "82f2d3e2",
   "metadata": {},
   "outputs": [
    {
     "ename": "NameError",
     "evalue": "name 'bertweet_pipeline' is not defined",
     "output_type": "error",
     "traceback": [
      "\u001b[0;31m---------------------------------------------------------------------------\u001b[0m",
      "\u001b[0;31mNameError\u001b[0m                                 Traceback (most recent call last)",
      "Input \u001b[0;32mIn [47]\u001b[0m, in \u001b[0;36m<cell line: 1>\u001b[0;34m()\u001b[0m\n\u001b[1;32m      1\u001b[0m \u001b[38;5;28;01mfor\u001b[39;00m tweet \u001b[38;5;129;01min\u001b[39;00m example_difficult_tweets[\u001b[38;5;241m0\u001b[39m:\u001b[38;5;241m1000\u001b[39m]:\n\u001b[0;32m----> 2\u001b[0m     pprint(\u001b[43mbertweet_pipeline\u001b[49m(tweet))\n\u001b[1;32m      3\u001b[0m     \u001b[38;5;28mprint\u001b[39m(tweet \u001b[38;5;241m+\u001b[39m \u001b[38;5;124m'\u001b[39m\u001b[38;5;130;01m\\n\u001b[39;00m\u001b[38;5;124m'\u001b[39m)\n",
      "\u001b[0;31mNameError\u001b[0m: name 'bertweet_pipeline' is not defined"
     ]
    }
   ],
   "source": [
    "for tweet in example_difficult_tweets[0:1000]:\n",
    "    pprint(bertweet_pipeline(tweet))\n",
    "    print(tweet + '\\n')"
   ]
  },
  {
   "cell_type": "markdown",
   "id": "97f2c1c5",
   "metadata": {},
   "source": [
    "❓ How did you do? Did you find any surprising results? \n",
    "\n",
    "❓ Are there any instances where the two models gave different predictions for the same tweet?"
   ]
  }
 ],
 "metadata": {
  "kernelspec": {
   "display_name": "Python 3 (ipykernel)",
   "language": "python",
   "name": "python3"
  },
  "language_info": {
   "codemirror_mode": {
    "name": "ipython",
    "version": 3
   },
   "file_extension": ".py",
   "mimetype": "text/x-python",
   "name": "python",
   "nbconvert_exporter": "python",
   "pygments_lexer": "ipython3",
   "version": "3.8.13"
  },
  "vscode": {
   "interpreter": {
    "hash": "635e31ff34c0350df6e9d804eda70786d94f48b17fcc73c378df4ea6ec0d01fd"
   }
  }
 },
 "nbformat": 4,
 "nbformat_minor": 5
}
